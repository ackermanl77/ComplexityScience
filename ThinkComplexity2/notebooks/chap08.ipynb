{
 "cells": [
  {
   "cell_type": "markdown",
   "metadata": {},
   "source": [
    "# Self-organized criticality\n",
    "\n",
    "Code examples from [Think Complexity, 2nd edition](https://thinkcomplex.com).\n",
    "\n",
    "Copyright 2016 Allen Downey, [MIT License](http://opensource.org/licenses/MIT)"
   ]
  },
  {
   "cell_type": "code",
   "execution_count": 1,
   "metadata": {},
   "outputs": [],
   "source": [
    "%matplotlib inline\n",
    "\n",
    "import matplotlib.pyplot as plt\n",
    "import numpy as np\n",
    "import seaborn as sns\n",
    "\n",
    "from utils import decorate, savefig"
   ]
  },
  {
   "cell_type": "markdown",
   "metadata": {},
   "source": [
    "## Sand pile"
   ]
  },
  {
   "cell_type": "markdown",
   "metadata": {},
   "source": [
    "`Sand.py` contains an implementation of the sand pile model."
   ]
  },
  {
   "cell_type": "code",
   "execution_count": 2,
   "metadata": {},
   "outputs": [],
   "source": [
    "import itertools\n",
    "from scipy.signal import correlate2d\n",
    "from Cell2D import Cell2D, draw_array\n",
    "\n",
    "\n",
    "class SandPile(Cell2D):\n",
    "    \"\"\"Diffusion Cellular Automaton.\"\"\"\n",
    "\n",
    "    kernel = np.array([[0, 1, 0],\n",
    "                       [1,-4, 1],\n",
    "                       [0, 1, 0]], dtype=np.int32)\n",
    "\n",
    "    def __init__(self, n, m=None, level=9):\n",
    "        \"\"\"Initializes the attributes.\n",
    "\n",
    "        n: number of rows\n",
    "        m: number of columns\n",
    "        level: starting value for all cells\n",
    "        \"\"\"\n",
    "        m = n if m is None else m\n",
    "        self.array = np.ones((n, m), dtype=np.int32) * level\n",
    "        self.toppled_seq = []\n",
    "\n",
    "    def step(self, K=3):\n",
    "        \"\"\"Executes one time step.\n",
    "        \n",
    "        returns: number of cells that toppled\n",
    "        \"\"\"\n",
    "        toppling = self.array > K\n",
    "        num_toppled = np.sum(toppling)\n",
    "        self.toppled_seq.append(num_toppled)\n",
    "\n",
    "        c = correlate2d(toppling, self.kernel, mode='same')\n",
    "        self.array += c\n",
    "        return num_toppled\n",
    "    \n",
    "    def drop(self):\n",
    "        \"\"\"Increments a random cell.\"\"\"\n",
    "        a = self.array\n",
    "        n, m = a.shape\n",
    "        index = np.random.randint(n), np.random.randint(m)\n",
    "        a[index] += 1\n",
    "    \n",
    "    def run(self):\n",
    "        \"\"\"Runs until equilibrium.\n",
    "        \n",
    "        returns: duration, total number of topplings\n",
    "        \"\"\"\n",
    "        total = 0\n",
    "        for i in itertools.count(1):\n",
    "            num_toppled = self.step()\n",
    "            total += num_toppled\n",
    "            if num_toppled == 0:\n",
    "                return i, total\n",
    "\n",
    "    def drop_and_run(self):\n",
    "        \"\"\"Drops a random grain and runs to equilibrium.\n",
    "        \n",
    "        returns: duration, total_toppled\n",
    "        \"\"\"\n",
    "        self.drop()\n",
    "        duration, total_toppled = self.run()\n",
    "        return duration, total_toppled\n",
    "    \n",
    "    def draw(self):\n",
    "        \"\"\"Draws the cells.\"\"\"\n",
    "        draw_array(self.array, cmap='YlOrRd', vmax=5)"
   ]
  },
  {
   "cell_type": "markdown",
   "metadata": {},
   "source": [
    "Here's a small example starting with two cells ready to topple.  `n` is the number of rows, `m` is the number of columns."
   ]
  },
  {
   "cell_type": "code",
   "execution_count": 3,
   "metadata": {},
   "outputs": [
    {
     "name": "stdout",
     "output_type": "stream",
     "text": [
      "[[0 0 0 0 0]\n",
      " [0 4 0 4 0]\n",
      " [0 0 0 0 0]]\n"
     ]
    }
   ],
   "source": [
    "pile = SandPile(n=3, m=5, level=0)\n",
    "pile.array[1, 1] = 4\n",
    "pile.array[1, 3] = 4\n",
    "\n",
    "a = pile.array\n",
    "print(a)"
   ]
  },
  {
   "cell_type": "markdown",
   "metadata": {},
   "source": [
    "To execute one step, first we find cells that are above the toppling threshold, `K`."
   ]
  },
  {
   "cell_type": "code",
   "execution_count": 4,
   "metadata": {},
   "outputs": [
    {
     "name": "stdout",
     "output_type": "stream",
     "text": [
      "[[0 0 0 0 0]\n",
      " [0 1 0 1 0]\n",
      " [0 0 0 0 0]]\n"
     ]
    }
   ],
   "source": [
    "K = 3\n",
    "toppling = a > K\n",
    "print(toppling.astype(int))"
   ]
  },
  {
   "cell_type": "markdown",
   "metadata": {},
   "source": [
    "Then we use `correlate2d` to make a copy of the update kernel around each toppling cell."
   ]
  },
  {
   "cell_type": "code",
   "execution_count": 5,
   "metadata": {},
   "outputs": [
    {
     "name": "stdout",
     "output_type": "stream",
     "text": [
      "[[ 0  1  0]\n",
      " [ 1 -4  1]\n",
      " [ 0  1  0]]\n"
     ]
    }
   ],
   "source": [
    "kernel = np.array([[0, 1, 0],\n",
    "                   [1,-4, 1],\n",
    "                   [0, 1, 0]])\n",
    "print(kernel)"
   ]
  },
  {
   "cell_type": "code",
   "execution_count": 6,
   "metadata": {},
   "outputs": [
    {
     "name": "stdout",
     "output_type": "stream",
     "text": [
      "[[ 0  1  0  1  0]\n",
      " [ 1 -4  2 -4  1]\n",
      " [ 0  1  0  1  0]]\n"
     ]
    }
   ],
   "source": [
    "from scipy.signal import correlate2d\n",
    "\n",
    "c = correlate2d(toppling, kernel, mode='same', boundary='fill', fillvalue=0)\n",
    "print(c)"
   ]
  },
  {
   "cell_type": "markdown",
   "metadata": {},
   "source": [
    "Finally, we add the result back into the array:"
   ]
  },
  {
   "cell_type": "code",
   "execution_count": 7,
   "metadata": {},
   "outputs": [
    {
     "name": "stdout",
     "output_type": "stream",
     "text": [
      "[[0 1 0 1 0]\n",
      " [1 0 2 0 1]\n",
      " [0 1 0 1 0]]\n"
     ]
    }
   ],
   "source": [
    "a += c\n",
    "print(a)"
   ]
  },
  {
   "cell_type": "markdown",
   "metadata": {},
   "source": [
    "Any grains that topple off the edge disappear."
   ]
  },
  {
   "cell_type": "markdown",
   "metadata": {},
   "source": [
    "## Animation"
   ]
  },
  {
   "cell_type": "markdown",
   "metadata": {},
   "source": [
    "Let's look at a bigger pile, with `n=20`.  All cells are initialized to `level`, which is meant to be substantially bigger than `K`."
   ]
  },
  {
   "cell_type": "code",
   "execution_count": 8,
   "metadata": {},
   "outputs": [
    {
     "name": "stdout",
     "output_type": "stream",
     "text": [
      "(332, 53336)\n"
     ]
    }
   ],
   "source": [
    "pile = SandPile(n=20, level=10)\n",
    "print(pile.run())"
   ]
  },
  {
   "cell_type": "markdown",
   "metadata": {},
   "source": [
    "The `run` function invokes `step` until no more cells topple and returns the number of time steps and the number of affected cells.\n",
    "\n",
    "Here's what it looks like.  Starting with `level>K` produces all kinds of interesting patterns."
   ]
  },
  {
   "cell_type": "code",
   "execution_count": 9,
   "metadata": {},
   "outputs": [
    {
     "data": {
      "image/png": "[encoded data removed]",
      "text/plain": [
       "<Figure size 432x288 with 1 Axes>"
      ]
     },
     "metadata": {},
     "output_type": "display_data"
    }
   ],
   "source": [
    "pile.draw()"
   ]
  },
  {
   "cell_type": "markdown",
   "metadata": {},
   "source": [
    "Now let's look at an animation, starting from this initialized pile.\n",
    "\n",
    "Each step of the animation drops a single grain at a random location and runs until no more cells topple."
   ]
  },
  {
   "cell_type": "code",
   "execution_count": 10,
   "metadata": {},
   "outputs": [
    {
     "data": {
      "image/png": "[encoded data removed]",
      "text/plain": [
       "<Figure size 432x288 with 1 Axes>"
      ]
     },
     "metadata": {},
     "output_type": "display_data"
    }
   ],
   "source": [
    "pile.animate(frames=100, step=pile.drop_and_run)"
   ]
  },
  {
   "cell_type": "markdown",
   "metadata": {},
   "source": [
    "After a while, the pile looks pretty random.\n",
    "\n",
    "Here's a plot of the number of cells toppled after each `step`.  "
   ]
  },
  {
   "cell_type": "code",
   "execution_count": 11,
   "metadata": {},
   "outputs": [
    {
     "data": {
      "image/png": "[encoded data removed]",
      "text/plain": [
       "<Figure size 432x288 with 1 Axes>"
      ]
     },
     "metadata": {
      "needs_background": "light"
     },
     "output_type": "display_data"
    }
   ],
   "source": [
    "plt.plot(pile.toppled_seq)\n",
    "decorate(xlabel='Time Steps', ylabel='Number of toppled cells')"
   ]
  },
  {
   "cell_type": "markdown",
   "metadata": {},
   "source": [
    "The following figure shows the progression of the pile from ordered to apparently random."
   ]
  },
  {
   "cell_type": "code",
   "execution_count": 12,
   "metadata": {},
   "outputs": [
    {
     "name": "stdout",
     "output_type": "stream",
     "text": [
      "(332, 53336)\n",
      "Saving figure to file figs/chap08-1\n"
     ]
    },
    {
     "data": {
      "image/png": "[encoded data removed]",
      "text/plain": [
       "<Figure size 720x288 with 3 Axes>"
      ]
     },
     "metadata": {},
     "output_type": "display_data"
    }
   ],
   "source": [
    "np.random.seed(17)\n",
    "\n",
    "pile = SandPile(n=20, level=10)\n",
    "print(pile.run())\n",
    "\n",
    "plt.figure(figsize=(10, 4))\n",
    "plt.subplot(1, 3, 1)\n",
    "pile.draw()\n",
    "\n",
    "plt.subplot(1, 3, 2)\n",
    "for i in range(20):\n",
    "    pile.drop_and_run()\n",
    "pile.draw()\n",
    "\n",
    "plt.subplot(1, 3, 3)\n",
    "for i in range(200):\n",
    "    pile.drop_and_run()\n",
    "pile.draw()\n",
    "\n",
    "plt.tight_layout()\n",
    "savefig('figs/chap08-1')"
   ]
  },
  {
   "cell_type": "markdown",
   "metadata": {},
   "source": [
    "## Long tailed distributions"
   ]
  },
  {
   "cell_type": "markdown",
   "metadata": {},
   "source": [
    "If the sand pile is in a critical state, we expect quantities like the duration of an avalanche, `T`, and the number of cells affected, `S`, to have long-tailed distributions.\n",
    "\n",
    "Following Bak, Tang, and Wiesenseld, we start with a 50x50 array and plot the PMFs of `S` and `T` on a log-log scale."
   ]
  },
  {
   "cell_type": "code",
   "execution_count": 13,
   "metadata": {
    "scrolled": true
   },
   "outputs": [
    {
     "data": {
      "image/png": "[encoded data removed]",
      "text/plain": [
       "<Figure size 432x288 with 1 Axes>"
      ]
     },
     "metadata": {},
     "output_type": "display_data"
    }
   ],
   "source": [
    "pile2 = SandPile(n=50, level=30)\n",
    "pile2.run()\n",
    "pile2.draw()"
   ]
  },
  {
   "cell_type": "markdown",
   "metadata": {},
   "source": [
    "Now we run the pile for many time steps and keep track of the durations and number of cells affected."
   ]
  },
  {
   "cell_type": "code",
   "execution_count": 14,
   "metadata": {
    "scrolled": true
   },
   "outputs": [
    {
     "name": "stdout",
     "output_type": "stream",
     "text": [
      "Wall time: 2min 38s\n"
     ]
    }
   ],
   "source": [
    "np.random.seed(17)\n",
    "\n",
    "iters = 100000\n",
    "%time res = [pile2.drop_and_run() for _ in range(iters)]"
   ]
  },
  {
   "cell_type": "markdown",
   "metadata": {},
   "source": [
    "We can use `np.transpose` to extract the results as two NumPy arrays."
   ]
  },
  {
   "cell_type": "code",
   "execution_count": 15,
   "metadata": {},
   "outputs": [],
   "source": [
    "T, S = np.transpose(res)"
   ]
  },
  {
   "cell_type": "markdown",
   "metadata": {},
   "source": [
    "A large majority of drops have duration 1 and no toppled cells.  If we filter them out, we get a clearer picture of the rest of the distribution."
   ]
  },
  {
   "cell_type": "code",
   "execution_count": 16,
   "metadata": {},
   "outputs": [],
   "source": [
    "T = T[T>1]\n",
    "S = S[S>0]"
   ]
  },
  {
   "cell_type": "markdown",
   "metadata": {},
   "source": [
    "We can use `Pmf` from the `empiricaldist` module to compute PMFs of `T` and `S`."
   ]
  },
  {
   "cell_type": "code",
   "execution_count": 17,
   "metadata": {},
   "outputs": [],
   "source": [
    "from empiricaldist import Pmf\n",
    "\n",
    "pmfT = Pmf.from_seq(T)\n",
    "pmfS = Pmf.from_seq(S)"
   ]
  },
  {
   "cell_type": "markdown",
   "metadata": {},
   "source": [
    "The distributions of `T` and `S` have many small values and a few very large ones.\n",
    "\n",
    "Here are the PMFs on linear axes, showing only small values."
   ]
  },
  {
   "cell_type": "code",
   "execution_count": 18,
   "metadata": {},
   "outputs": [
    {
     "ename": "NameError",
     "evalue": "name 'pmfT' is not defined",
     "output_type": "error",
     "traceback": [
      "\u001b[0;31m---------------------------------------------------------------------------\u001b[0m",
      "\u001b[0;31mNameError\u001b[0m                                 Traceback (most recent call last)",
      "\u001b[0;32m<ipython-input-18-9e1bd245b390>\u001b[0m in \u001b[0;36m<module>\u001b[0;34m\u001b[0m\n\u001b[1;32m      2\u001b[0m \u001b[0mplt\u001b[0m\u001b[0;34m.\u001b[0m\u001b[0msubplot\u001b[0m\u001b[0;34m(\u001b[0m\u001b[0;36m1\u001b[0m\u001b[0;34m,\u001b[0m \u001b[0;36m2\u001b[0m\u001b[0;34m,\u001b[0m \u001b[0;36m1\u001b[0m\u001b[0;34m)\u001b[0m\u001b[0;34m\u001b[0m\u001b[0;34m\u001b[0m\u001b[0m\n\u001b[1;32m      3\u001b[0m \u001b[0;34m\u001b[0m\u001b[0m\n\u001b[0;32m----> 4\u001b[0;31m \u001b[0mpmfT\u001b[0m\u001b[0;34m.\u001b[0m\u001b[0mplot\u001b[0m\u001b[0;34m(\u001b[0m\u001b[0mlabel\u001b[0m\u001b[0;34m=\u001b[0m\u001b[0;34m'T'\u001b[0m\u001b[0;34m)\u001b[0m\u001b[0;34m\u001b[0m\u001b[0;34m\u001b[0m\u001b[0m\n\u001b[0m\u001b[1;32m      5\u001b[0m decorate(xlabel='Avalanche duration',\n\u001b[1;32m      6\u001b[0m                  \u001b[0mylabel\u001b[0m\u001b[0;34m=\u001b[0m\u001b[0;34m'PMF'\u001b[0m\u001b[0;34m,\u001b[0m\u001b[0;34m\u001b[0m\u001b[0;34m\u001b[0m\u001b[0m\n",
      "\u001b[0;31mNameError\u001b[0m: name 'pmfT' is not defined"
     ]
    },
    {
     "data": {
      "image/png": "[encoded data removed]",
      "text/plain": [
       "<Figure size 720x360 with 1 Axes>"
      ]
     },
     "metadata": {
      "needs_background": "light"
     },
     "output_type": "display_data"
    }
   ],
   "source": [
    "plt.figure(figsize=(10, 5))\n",
    "plt.subplot(1, 2, 1)\n",
    "\n",
    "pmfT.plot(label='T')\n",
    "decorate(xlabel='Avalanche duration',\n",
    "                 ylabel='PMF',\n",
    "                 xlim=[1, 50], loc='upper right')\n",
    "\n",
    "plt.subplot(1, 2, 2)\n",
    "pmfS.plot(label='S')\n",
    "decorate(xlabel='Avalanche size',\n",
    "                 xlim=[1, 50])\n",
    "\n",
    "savefig('figs/chap08-2')"
   ]
  },
  {
   "cell_type": "markdown",
   "metadata": {},
   "source": [
    "To see whether these distributions follow a power law, we plot the PMFs on a log-log scale."
   ]
  },
  {
   "cell_type": "code",
   "execution_count": 19,
   "metadata": {},
   "outputs": [
    {
     "name": "stdout",
     "output_type": "stream",
     "text": [
      "[-1.1188474]\n"
     ]
    },
    {
     "ename": "NameError",
     "evalue": "name 'pmfT' is not defined",
     "output_type": "error",
     "traceback": [
      "\u001b[0;31m---------------------------------------------------------------------------\u001b[0m",
      "\u001b[0;31mNameError\u001b[0m                                 Traceback (most recent call last)",
      "\u001b[0;32m<ipython-input-19-1dda78753f5f>\u001b[0m in \u001b[0;36m<module>\u001b[0;34m\u001b[0m\n\u001b[1;32m     12\u001b[0m \u001b[0mplt\u001b[0m\u001b[0;34m.\u001b[0m\u001b[0mplot\u001b[0m\u001b[0;34m(\u001b[0m\u001b[0mxs\u001b[0m\u001b[0;34m,\u001b[0m \u001b[0mys\u001b[0m\u001b[0;34m,\u001b[0m \u001b[0;34m**\u001b[0m\u001b[0moptions\u001b[0m\u001b[0;34m)\u001b[0m\u001b[0;34m\u001b[0m\u001b[0;34m\u001b[0m\u001b[0m\n\u001b[1;32m     13\u001b[0m \u001b[0;34m\u001b[0m\u001b[0m\n\u001b[0;32m---> 14\u001b[0;31m \u001b[0mpmfT\u001b[0m\u001b[0;34m.\u001b[0m\u001b[0mplot\u001b[0m\u001b[0;34m(\u001b[0m\u001b[0mlabel\u001b[0m\u001b[0;34m=\u001b[0m\u001b[0;34m'T'\u001b[0m\u001b[0;34m,\u001b[0m \u001b[0mlinewidth\u001b[0m\u001b[0;34m=\u001b[0m\u001b[0;36m2\u001b[0m\u001b[0;34m)\u001b[0m\u001b[0;34m\u001b[0m\u001b[0;34m\u001b[0m\u001b[0m\n\u001b[0m\u001b[1;32m     15\u001b[0m decorate(xlabel='Avalanche duration',\n\u001b[1;32m     16\u001b[0m                  \u001b[0mxlim\u001b[0m\u001b[0;34m=\u001b[0m\u001b[0;34m[\u001b[0m\u001b[0;36m1\u001b[0m\u001b[0;34m,\u001b[0m \u001b[0;36m1000\u001b[0m\u001b[0;34m]\u001b[0m\u001b[0;34m,\u001b[0m\u001b[0;34m\u001b[0m\u001b[0;34m\u001b[0m\u001b[0m\n",
      "\u001b[0;31mNameError\u001b[0m: name 'pmfT' is not defined"
     ]
    },
    {
     "data": {
      "image/png": "[encoded data removed]",
      "text/plain": [
       "<Figure size 720x360 with 1 Axes>"
      ]
     },
     "metadata": {
      "needs_background": "light"
     },
     "output_type": "display_data"
    }
   ],
   "source": [
    "def slope(xs, ys):\n",
    "    return np.diff(np.log(ys)) / np.diff(np.log(xs))\n",
    "\n",
    "plt.figure(figsize=(10, 5))\n",
    "plt.subplot(1, 2, 1)\n",
    "\n",
    "xs = [2, 600]\n",
    "ys = [1.3e-1, 2.2e-4]\n",
    "print(slope(xs, ys))\n",
    "\n",
    "options = dict(color='gray', alpha=0.3, linewidth=4)\n",
    "plt.plot(xs, ys, **options)\n",
    "\n",
    "pmfT.plot(label='T', linewidth=2)\n",
    "decorate(xlabel='Avalanche duration',\n",
    "                 xlim=[1, 1000],\n",
    "                 ylabel='PMF',\n",
    "                 xscale='log',\n",
    "                 yscale='log',\n",
    "                 loc='upper right')\n",
    "\n",
    "plt.subplot(1, 2, 2)\n",
    "\n",
    "xs = [1, 5000]\n",
    "ys = [1.3e-1, 2.3e-5]\n",
    "print(slope(xs, ys))\n",
    "\n",
    "plt.plot(xs, ys, **options)\n",
    "pmfS.plot(label='S', linewidth=1)\n",
    "decorate(xlabel='Avalanche size',\n",
    "                 xlim=[1, 5600],\n",
    "                 xscale='log',\n",
    "                 yscale='log')\n",
    "\n",
    "savefig('figs/chap08-3')"
   ]
  },
  {
   "cell_type": "markdown",
   "metadata": {},
   "source": [
    "The gray lines have slopes near -1.  The distribution of avalanche duration is approximately straight between 1 and 100, but then drops off.  The distribution of size follows a power law more closely and over a greater range, but it also seems to drop off for values above a few hundred."
   ]
  },
  {
   "cell_type": "markdown",
   "metadata": {},
   "source": [
    "**Exercise:** Try running the model longer to see if you can get a less noisy plot of the distributions of `T` and `S`."
   ]
  },
  {
   "cell_type": "markdown",
   "metadata": {},
   "source": [
    "## Fractals\n",
    "\n",
    "If the sand pile is in a critical state, we expect to see fractal geometry.\n",
    "\n",
    "To estimate the fractal dimension, I'll start with a bigger pile and a higher initial level."
   ]
  },
  {
   "cell_type": "code",
   "execution_count": 20,
   "metadata": {},
   "outputs": [
    {
     "name": "stdout",
     "output_type": "stream",
     "text": [
      "CPU times: user 22.1 s, sys: 0 ns, total: 22.1 s\n",
      "Wall time: 3h 13min 45s\n"
     ]
    },
    {
     "data": {
      "text/plain": [
       "(28379, 211320220)"
      ]
     },
     "execution_count": 20,
     "metadata": {},
     "output_type": "execute_result"
    }
   ],
   "source": [
    "pile3 = SandPile(n=131, level=22)\n",
    "%time pile3.run()"
   ]
  },
  {
   "cell_type": "markdown",
   "metadata": {},
   "source": [
    "The initial state sure looks like a fractal."
   ]
  },
  {
   "cell_type": "code",
   "execution_count": 21,
   "metadata": {},
   "outputs": [
    {
     "data": {
      "image/png": "[encoded data removed]",
      "text/plain": [
       "<Figure size 432x288 with 1 Axes>"
      ]
     },
     "metadata": {},
     "output_type": "display_data"
    }
   ],
   "source": [
    "pile3.draw()"
   ]
  },
  {
   "cell_type": "markdown",
   "metadata": {},
   "source": [
    "Since it contains four different levels (0, 1, 2, and 3), we can extract 4 binary patterns."
   ]
  },
  {
   "cell_type": "code",
   "execution_count": 24,
   "metadata": {},
   "outputs": [],
   "source": [
    "def draw_four(pile, levels=range(4)):\n",
    "    plt.figure(figsize=(8, 8))\n",
    "    for i, level in enumerate(levels):\n",
    "        plt.subplot(2, 2, i+1)\n",
    "        draw_array(pile.array==level, cmap='YlOrRd', vmax=1)\n",
    "    \n",
    "    plt.tight_layout()"
   ]
  },
  {
   "cell_type": "markdown",
   "metadata": {},
   "source": [
    "Here's what they look like:"
   ]
  },
  {
   "cell_type": "code",
   "execution_count": 25,
   "metadata": {},
   "outputs": [
    {
     "name": "stdout",
     "output_type": "stream",
     "text": [
      "Saving figure to file figs/chap08-4\n"
     ]
    },
    {
     "data": {
      "image/png": "[encoded data removed]",
      "text/plain": [
       "<Figure size 576x576 with 4 Axes>"
      ]
     },
     "metadata": {},
     "output_type": "display_data"
    }
   ],
   "source": [
    "draw_four(pile3)\n",
    "savefig('figs/chap08-4')"
   ]
  },
  {
   "cell_type": "markdown",
   "metadata": {},
   "source": [
    "Now we can apply a box-counting algorithm to each level.\n",
    "\n",
    "`count_cells` starts with a single cell in the middle, gradually increases the size of the box, and counts the number of cells in each box."
   ]
  },
  {
   "cell_type": "code",
   "execution_count": 26,
   "metadata": {},
   "outputs": [],
   "source": [
    "def count_cells(a):\n",
    "    \"\"\"Counts the number of cells in boxes with increasing size.\n",
    "    \n",
    "    a: NumPy array\n",
    "    \n",
    "    returns: list of (i, i**2, cell count) tuples\n",
    "    \"\"\"\n",
    "    n, m = a.shape\n",
    "    end = min(n, m)\n",
    "    \n",
    "    res = []\n",
    "    for i in range(1, end, 2):\n",
    "        top = (n-i) // 2\n",
    "        left = (m-i) // 2\n",
    "        box = a[top:top+i, left:left+i]\n",
    "        total = np.sum(box)\n",
    "        res.append((i, i**2, total))\n",
    "        \n",
    "    return np.transpose(res)"
   ]
  },
  {
   "cell_type": "markdown",
   "metadata": {},
   "source": [
    "`box_count` takes a pile and a level, extracts the cells that have the given level, calls `count_cells`, and estimates the fractal dimension.\n",
    "\n",
    "If `plot` is `True`, it also generates a graph of cell count versus box size on a log-log scale."
   ]
  },
  {
   "cell_type": "code",
   "execution_count": 27,
   "metadata": {},
   "outputs": [],
   "source": [
    "from scipy.stats import linregress\n",
    "\n",
    "def box_count(pile, level, plot=False):\n",
    "    \"\"\"Estimates the fractal dimension by box counting.\n",
    "    \n",
    "    pile: SandPile\n",
    "    level: which level from the pile to count\n",
    "    plot: boolean, whether to generate a plot\n",
    "    \n",
    "    returns: estimated fractal dimension\n",
    "    \"\"\"\n",
    "    res = count_cells(pile.array==level)\n",
    "    steps, steps2, cells = res\n",
    "    \n",
    "    # select the range where we have a nonzero number of cells\n",
    "    legit = np.nonzero(cells)\n",
    "    steps = steps[legit]\n",
    "    steps2 = steps2[legit]\n",
    "    cells = cells[legit]\n",
    "\n",
    "    if plot:\n",
    "        # only put labels on the left and bottom subplots\n",
    "        xlabel = 'Box Size' if level in [2, 3] else ''\n",
    "        ylabel = 'Cell Count' if level in [0, 2] else ''\n",
    "    \n",
    "        options = dict(linestyle='dashed', color='gray', alpha=0.7)\n",
    "        plt.plot(steps, steps2, **options)\n",
    "        plt.plot(steps, cells, label='level=%d' % level)\n",
    "        plt.plot(steps, steps, **options)\n",
    "\n",
    "        decorate(xscale='log', yscale='log',\n",
    "                         xlim=[1, 200], loc='upper left',\n",
    "                         xlabel=xlabel, ylabel=ylabel)\n",
    "        #thinkplot.bigger_text()\n",
    "\n",
    "    params = linregress(np.log(steps), np.log(cells))\n",
    "    return params[0]"
   ]
  },
  {
   "cell_type": "markdown",
   "metadata": {},
   "source": [
    "Finally `box_count_four` applies the box counting algorithm for each value in the sand pile."
   ]
  },
  {
   "cell_type": "code",
   "execution_count": 28,
   "metadata": {},
   "outputs": [],
   "source": [
    "def box_count_four(pile, levels=range(4)):\n",
    "    \"\"\"Applies box counting to each level in the pile.\n",
    "    \n",
    "    pile: SandPile\n",
    "    levels: list of levels to check\n",
    "    \"\"\"\n",
    "    plt.figure(figsize=(8, 8))\n",
    "\n",
    "    dims = []\n",
    "    for i, level in enumerate(levels):\n",
    "        plt.subplot(2, 2, i+1)\n",
    "        dim = box_count(pile, level, plot=True)\n",
    "        dims.append(dim)\n",
    "        \n",
    "    return dims"
   ]
  },
  {
   "cell_type": "markdown",
   "metadata": {},
   "source": [
    "Here are the results:"
   ]
  },
  {
   "cell_type": "code",
   "execution_count": 29,
   "metadata": {},
   "outputs": [
    {
     "name": "stdout",
     "output_type": "stream",
     "text": [
      "Saving figure to file figs/chap08-5\n"
     ]
    },
    {
     "data": {
      "image/png": "[encoded data removed]",
      "text/plain": [
       "<Figure size 576x576 with 4 Axes>"
      ]
     },
     "metadata": {
      "needs_background": "light"
     },
     "output_type": "display_data"
    }
   ],
   "source": [
    "dims = box_count_four(pile3)\n",
    "savefig('figs/chap08-5')"
   ]
  },
  {
   "cell_type": "markdown",
   "metadata": {},
   "source": [
    "The lines are reasonably straight, which indicates that we are running the algorithm over a valid range of box sizes.  Here are the estimated slopes:"
   ]
  },
  {
   "cell_type": "code",
   "execution_count": 30,
   "metadata": {},
   "outputs": [
    {
     "name": "stdout",
     "output_type": "stream",
     "text": [
      "0  1.871\n",
      "1  3.502\n",
      "2  1.781\n",
      "3  2.084\n"
     ]
    }
   ],
   "source": [
    "for i, dim in enumerate(dims):\n",
    "    print('%d  %0.3f' % (i, dim))"
   ]
  },
  {
   "cell_type": "markdown",
   "metadata": {},
   "source": [
    "The fractal dimension for levels 0, 1, and 2 seems to be clearly non-integer, which indicates that the image is fractal.\n",
    "\n",
    "The fractal dimension for value 3 is indistinguishable from 2, but given the results for the other levels, the apparent curvature of the line, and the appearance of the pattern, it seems likely that it is also fractal. "
   ]
  },
  {
   "cell_type": "markdown",
   "metadata": {},
   "source": [
    "**Exercise:**  Choose a different value of `n` and/or the initial `level` and run this analysis again.  Are the estimated fractal dimensions consistent?"
   ]
  },
  {
   "cell_type": "markdown",
   "metadata": {},
   "source": [
    "## Spectral density"
   ]
  },
  {
   "cell_type": "markdown",
   "metadata": {},
   "source": [
    "Suppose the sandpile made a little click each time a cell toppled.  What would it sound like?\n",
    "\n",
    "`toppled_seq` contains the number of cells that toppled during each time step.  We can use Welch's algorithm to estimate its [power spectral density](https://en.wikipedia.org/wiki/Spectral_density)."
   ]
  },
  {
   "cell_type": "code",
   "execution_count": 31,
   "metadata": {},
   "outputs": [
    {
     "data": {
      "text/plain": [
       "1429764"
      ]
     },
     "execution_count": 31,
     "metadata": {},
     "output_type": "execute_result"
    }
   ],
   "source": [
    "signal = pile2.toppled_seq\n",
    "len(signal)"
   ]
  },
  {
   "cell_type": "code",
   "execution_count": 32,
   "metadata": {},
   "outputs": [],
   "source": [
    "from scipy.signal import welch\n",
    "\n",
    "nperseg = 2048\n",
    "freqs, powers = welch(signal, nperseg=nperseg, fs=nperseg)"
   ]
  },
  {
   "cell_type": "markdown",
   "metadata": {},
   "source": [
    "And here's what it looks like."
   ]
  },
  {
   "cell_type": "code",
   "execution_count": 33,
   "metadata": {},
   "outputs": [
    {
     "name": "stdout",
     "output_type": "stream",
     "text": [
      "Saving figure to file figs/chap08-6\n"
     ]
    },
    {
     "data": {
      "image/png": "[encoded data removed]",
      "text/plain": [
       "<Figure size 432x288 with 1 Axes>"
      ]
     },
     "metadata": {
      "needs_background": "light"
     },
     "output_type": "display_data"
    }
   ],
   "source": [
    "x = nperseg\n",
    "ys = np.array([x**1.58, 1]) / 2.7e3\n",
    "plt.plot([1, x], ys, color='gray', linewidth=1)\n",
    "\n",
    "plt.plot(freqs, powers)\n",
    "decorate(xlabel='Frequency',\n",
    "         xscale='log', \n",
    "         xlim=[1, 1200],\n",
    "         ylabel='Power', \n",
    "         yscale='log', \n",
    "         ylim=[1e-4, 5])\n",
    "\n",
    "savefig('figs/chap08-6')"
   ]
  },
  {
   "cell_type": "markdown",
   "metadata": {},
   "source": [
    "The slope of the line is -1.58, which indicates that this spectrum is pink noise with parameter $\\beta=1.58$."
   ]
  },
  {
   "cell_type": "markdown",
   "metadata": {},
   "source": [
    "**Exercise:**  Choose a different value of `nperseg` and run this analysis again.  What are the pros and cons of larger segment lengths?  Modify the code to run the model longer and see if you can get a less noisy estimate of the spectrum."
   ]
  },
  {
   "cell_type": "markdown",
   "metadata": {},
   "source": [
    "## Exercises"
   ]
  },
  {
   "cell_type": "markdown",
   "metadata": {},
   "source": [
    "**Exercise:** To test whether the distributions of `T` and `S` are heavy-tailed, we plotted their `Pmf` on a log-log scale, which is what Bak, Tang and Wiesenfeld show in their paper.  But as we saw in Chapter 4, this visualization can obscure the shape of the distribution.  Using the same data, make a plot that shows the CDFs of `S` and `T`.  What can you say about the shape of these distributions?  Do they follow a power law?  Are they heavy tailed?\n",
    "\n",
    "You might find it helpful to plot the CDFs on a log-x scale and on a log-log scale."
   ]
  },
  {
   "cell_type": "code",
   "execution_count": null,
   "metadata": {},
   "outputs": [],
   "source": [
    "from empiricaldist import Cdf\n",
    "\n",
    "cdf = Cdf.from_seq(S)"
   ]
  },
  {
   "cell_type": "code",
   "execution_count": null,
   "metadata": {},
   "outputs": [],
   "source": [
    "# Solution goes here"
   ]
  },
  {
   "cell_type": "code",
   "execution_count": null,
   "metadata": {},
   "outputs": [],
   "source": [
    "plot_cdf(S, xlabel='Avalance size')"
   ]
  },
  {
   "cell_type": "code",
   "execution_count": null,
   "metadata": {},
   "outputs": [],
   "source": [
    "# Solution goes here"
   ]
  },
  {
   "cell_type": "code",
   "execution_count": null,
   "metadata": {},
   "outputs": [],
   "source": [
    "# Solution goes here"
   ]
  },
  {
   "cell_type": "markdown",
   "metadata": {},
   "source": [
    "**Exercise:** In Section 8.5 we showed that the initial equilibrium of the sand pile model produces fractal patterns.  But after we drop a large number of random grains, the patterns look more random.\n",
    "\n",
    "Starting with the example in Section 8.5, run the sand pile model for a while and then compute fractal dimensions for each of the 4 levels.  Is the sand pile model fractal in steady state?"
   ]
  },
  {
   "cell_type": "code",
   "execution_count": 39,
   "metadata": {},
   "outputs": [],
   "source": [
    "# Solution goes here"
   ]
  },
  {
   "cell_type": "code",
   "execution_count": 40,
   "metadata": {},
   "outputs": [],
   "source": [
    "# Solution goes here"
   ]
  },
  {
   "cell_type": "code",
   "execution_count": 41,
   "metadata": {},
   "outputs": [],
   "source": [
    "# Solution goes here"
   ]
  },
  {
   "cell_type": "code",
   "execution_count": 42,
   "metadata": {},
   "outputs": [],
   "source": [
    "# Solution goes here"
   ]
  },
  {
   "cell_type": "code",
   "execution_count": 43,
   "metadata": {},
   "outputs": [],
   "source": [
    "# Solution goes here"
   ]
  },
  {
   "cell_type": "markdown",
   "metadata": {},
   "source": [
    "**Exercise:** Another version of the sand pile model, called the \"single source\" model, starts from a different initial condition: instead of all cells at the same level, all cells are set to 0 except the center cell, which is set to a very large value.\n",
    "\n",
    "Write a function that creates a `SandPile` object, sets up the single source initial condition, and runs until the pile reaches equilibrium.  Does the results appear to be fractal?\n",
    "\n",
    "You can read more about this version of the sand pile model at http://math.cmu.edu/~wes/sandgallery.html"
   ]
  },
  {
   "cell_type": "code",
   "execution_count": 44,
   "metadata": {},
   "outputs": [],
   "source": [
    "# Solution goes here"
   ]
  },
  {
   "cell_type": "code",
   "execution_count": 45,
   "metadata": {},
   "outputs": [],
   "source": [
    "# Solution goes here"
   ]
  },
  {
   "cell_type": "code",
   "execution_count": 46,
   "metadata": {},
   "outputs": [],
   "source": [
    "# Solution goes here"
   ]
  },
  {
   "cell_type": "code",
   "execution_count": 47,
   "metadata": {},
   "outputs": [],
   "source": [
    "# Solution goes here"
   ]
  },
  {
   "cell_type": "code",
   "execution_count": 48,
   "metadata": {},
   "outputs": [],
   "source": [
    "# Solution goes here"
   ]
  },
  {
   "cell_type": "code",
   "execution_count": 49,
   "metadata": {},
   "outputs": [],
   "source": [
    "# Solution goes here"
   ]
  },
  {
   "cell_type": "code",
   "execution_count": null,
   "metadata": {},
   "outputs": [],
   "source": []
  }
 ],
 "metadata": {
  "kernelspec": {
   "display_name": "Python 3",
   "language": "python",
   "name": "python3"
  },
  "language_info": {
   "codemirror_mode": {
    "name": "ipython",
    "version": 3
   },
   "file_extension": ".py",
   "mimetype": "text/x-python",
   "name": "python",
   "nbconvert_exporter": "python",
   "pygments_lexer": "ipython3",
   "version": "3.7.6"
  }
 },
 "nbformat": 4,
 "nbformat_minor": 4
}
