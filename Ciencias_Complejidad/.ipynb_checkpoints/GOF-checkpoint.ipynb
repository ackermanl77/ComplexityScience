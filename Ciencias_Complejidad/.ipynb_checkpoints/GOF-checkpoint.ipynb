{
 "cells": [
  {
   "cell_type": "code",
   "execution_count": 1,
   "metadata": {
    "colab": {},
    "colab_type": "code",
    "id": "nghQEVba9lMk"
   },
   "outputs": [],
   "source": [
    "import numpy as np\n",
    "import matplotlib.pyplot as plt\n",
    "from matplotlib import animation\n",
    "\n",
    "from IPython import display"
   ]
  },
  {
   "cell_type": "markdown",
   "metadata": {
    "colab_type": "text",
    "id": "B948IErN9zbt"
   },
   "source": [
    "# Juego de la vida"
   ]
  },
  {
   "cell_type": "code",
   "execution_count": 2,
   "metadata": {
    "colab": {},
    "colab_type": "code",
    "id": "5_CM9H8Q92VQ"
   },
   "outputs": [],
   "source": [
    "\"\"\"\n",
    "  Parametros del juego\n",
    "\"\"\"\n",
    "n = 80 # el tamaño del espacio es nxn\n",
    "generaciones = 50 # num de veces que itera el juego\n"
   ]
  },
  {
   "cell_type": "code",
   "execution_count": 18,
   "metadata": {
    "colab": {
     "base_uri": "https://localhost:8080/",
     "height": 139
    },
    "colab_type": "code",
    "executionInfo": {
     "elapsed": 492,
     "status": "ok",
     "timestamp": 1570906742228,
     "user": {
      "displayName": "Eliseo Morales",
      "photoUrl": "",
      "userId": "01947167724432116230"
     },
     "user_tz": 300
    },
    "id": "J_J-thpC-O-0",
    "outputId": "ffeed46a-9d1c-449b-a930-4f84196622a3"
   },
   "outputs": [
    {
     "name": "stdout",
     "output_type": "stream",
     "text": [
      "[[0 0 0 ... 0 0 0]\n",
      " [0 0 0 ... 0 0 0]\n",
      " [0 0 0 ... 0 0 0]\n",
      " ...\n",
      " [0 0 0 ... 0 0 0]\n",
      " [0 0 0 ... 0 0 0]\n",
      " [0 0 0 ... 0 0 0]]\n"
     ]
    }
   ],
   "source": [
    "\"\"\"\n",
    "  Espacio\n",
    "\"\"\"\n",
    "espacio = np.zeros((n, n), dtype=int)\n",
    "print(espacio)"
   ]
  },
  {
   "cell_type": "code",
   "execution_count": 19,
   "metadata": {
    "colab": {
     "base_uri": "https://localhost:8080/",
     "height": 139
    },
    "colab_type": "code",
    "executionInfo": {
     "elapsed": 858,
     "status": "ok",
     "timestamp": 1570906749289,
     "user": {
      "displayName": "Eliseo Morales",
      "photoUrl": "",
      "userId": "01947167724432116230"
     },
     "user_tz": 300
    },
    "id": "_KWo5tcnBvAZ",
    "outputId": "bbb31a45-0d8d-41ae-801e-533bb781875c"
   },
   "outputs": [
    {
     "name": "stdout",
     "output_type": "stream",
     "text": [
      "[[0 0 0 ... 0 0 0]\n",
      " [0 1 1 ... 0 0 0]\n",
      " [0 0 1 ... 0 0 0]\n",
      " ...\n",
      " [0 0 0 ... 0 0 0]\n",
      " [0 0 0 ... 0 0 0]\n",
      " [0 0 0 ... 0 0 0]]\n"
     ]
    }
   ],
   "source": [
    "#añadir elementos al espacio\n",
    "\n",
    "espacio[1, 1:4] = 1\n",
    "espacio[2,2] = 1\n",
    "print(espacio)"
   ]
  },
  {
   "cell_type": "code",
   "execution_count": 20,
   "metadata": {},
   "outputs": [
    {
     "data": {
      "text/plain": [
       "\u001b[0;31mSignature:\u001b[0m \u001b[0mnp\u001b[0m\u001b[0;34m.\u001b[0m\u001b[0mroll\u001b[0m\u001b[0;34m(\u001b[0m\u001b[0ma\u001b[0m\u001b[0;34m,\u001b[0m \u001b[0mshift\u001b[0m\u001b[0;34m,\u001b[0m \u001b[0maxis\u001b[0m\u001b[0;34m=\u001b[0m\u001b[0;32mNone\u001b[0m\u001b[0;34m)\u001b[0m\u001b[0;34m\u001b[0m\u001b[0;34m\u001b[0m\u001b[0m\n",
       "\u001b[0;31mDocstring:\u001b[0m\n",
       "Roll array elements along a given axis.\n",
       "\n",
       "Elements that roll beyond the last position are re-introduced at\n",
       "the first.\n",
       "\n",
       "Parameters\n",
       "----------\n",
       "a : array_like\n",
       "    Input array.\n",
       "shift : int or tuple of ints\n",
       "    The number of places by which elements are shifted.  If a tuple,\n",
       "    then `axis` must be a tuple of the same size, and each of the\n",
       "    given axes is shifted by the corresponding number.  If an int\n",
       "    while `axis` is a tuple of ints, then the same value is used for\n",
       "    all given axes.\n",
       "axis : int or tuple of ints, optional\n",
       "    Axis or axes along which elements are shifted.  By default, the\n",
       "    array is flattened before shifting, after which the original\n",
       "    shape is restored.\n",
       "\n",
       "Returns\n",
       "-------\n",
       "res : ndarray\n",
       "    Output array, with the same shape as `a`.\n",
       "\n",
       "See Also\n",
       "--------\n",
       "rollaxis : Roll the specified axis backwards, until it lies in a\n",
       "           given position.\n",
       "\n",
       "Notes\n",
       "-----\n",
       ".. versionadded:: 1.12.0\n",
       "\n",
       "Supports rolling over multiple dimensions simultaneously.\n",
       "\n",
       "Examples\n",
       "--------\n",
       ">>> x = np.arange(10)\n",
       ">>> np.roll(x, 2)\n",
       "array([8, 9, 0, 1, 2, 3, 4, 5, 6, 7])\n",
       ">>> np.roll(x, -2)\n",
       "array([2, 3, 4, 5, 6, 7, 8, 9, 0, 1])\n",
       "\n",
       ">>> x2 = np.reshape(x, (2,5))\n",
       ">>> x2\n",
       "array([[0, 1, 2, 3, 4],\n",
       "       [5, 6, 7, 8, 9]])\n",
       ">>> np.roll(x2, 1)\n",
       "array([[9, 0, 1, 2, 3],\n",
       "       [4, 5, 6, 7, 8]])\n",
       ">>> np.roll(x2, -1)\n",
       "array([[1, 2, 3, 4, 5],\n",
       "       [6, 7, 8, 9, 0]])\n",
       ">>> np.roll(x2, 1, axis=0)\n",
       "array([[5, 6, 7, 8, 9],\n",
       "       [0, 1, 2, 3, 4]])\n",
       ">>> np.roll(x2, -1, axis=0)\n",
       "array([[5, 6, 7, 8, 9],\n",
       "       [0, 1, 2, 3, 4]])\n",
       ">>> np.roll(x2, 1, axis=1)\n",
       "array([[4, 0, 1, 2, 3],\n",
       "       [9, 5, 6, 7, 8]])\n",
       ">>> np.roll(x2, -1, axis=1)\n",
       "array([[1, 2, 3, 4, 0],\n",
       "       [6, 7, 8, 9, 5]])\n",
       "\u001b[0;31mFile:\u001b[0m      ~/anaconda3/lib/python3.7/site-packages/numpy/core/numeric.py\n",
       "\u001b[0;31mType:\u001b[0m      function\n"
      ]
     },
     "metadata": {},
     "output_type": "display_data"
    }
   ],
   "source": [
    "?np.roll"
   ]
  },
  {
   "cell_type": "code",
   "execution_count": 21,
   "metadata": {
    "colab": {},
    "colab_type": "code",
    "id": "bQPkd6RR-US1"
   },
   "outputs": [],
   "source": [
    "def vecindario(b):\n",
    "    \"\"\"Array de células vivas en el vecindario.\"\"\"\n",
    "    vecindario = (\n",
    "        np.roll(np.roll(b, 1, 1), 1, 0) +  # Abajo-derecha\n",
    "        np.roll(b, 1, 0) +  # Abajo\n",
    "        np.roll(np.roll(b, -1, 1), 1, 0) +  # Abajo-izquierda\n",
    "        np.roll(b, -1, 1) +  # Izquierda\n",
    "        np.roll(np.roll(b, -1, 1), -1, 0) +  # Arriba-izquierda\n",
    "        np.roll(b, -1, 0) +  # Arriba\n",
    "        np.roll(np.roll(b, 1, 1), -1, 0) +  # Arriba-derecha\n",
    "        np.roll(b, 1, 1)  # Derecha\n",
    "    )\n",
    "    return vecindario"
   ]
  },
  {
   "cell_type": "code",
   "execution_count": 22,
   "metadata": {
    "colab": {
     "base_uri": "https://localhost:8080/",
     "height": 104
    },
    "colab_type": "code",
    "executionInfo": {
     "elapsed": 1061,
     "status": "ok",
     "timestamp": 1570906210963,
     "user": {
      "displayName": "Eliseo Morales",
      "photoUrl": "",
      "userId": "01947167724432116230"
     },
     "user_tz": 300
    },
    "id": "wmvaHwFo_CRf",
    "outputId": "511204a7-3efa-4f1a-a1e6-765338491959"
   },
   "outputs": [
    {
     "name": "stdout",
     "output_type": "stream",
     "text": [
      "[[1 2 3 ... 0 0 0]\n",
      " [1 2 3 ... 0 0 0]\n",
      " [1 3 3 ... 0 0 0]\n",
      " ...\n",
      " [0 0 0 ... 0 0 0]\n",
      " [0 0 0 ... 0 0 0]\n",
      " [0 0 0 ... 0 0 0]]\n"
     ]
    }
   ],
   "source": [
    "print(vecindario(espacio))"
   ]
  },
  {
   "cell_type": "code",
   "execution_count": 23,
   "metadata": {
    "colab": {},
    "colab_type": "code",
    "id": "DU0CsYJNBmXH"
   },
   "outputs": [],
   "source": [
    "def regla(b, B, S):\n",
    "    \"\"\"\n",
    "      Apliacion de las reglas del juego de la vida\n",
    "      1.- Nace si el numero de sus vecinos esta en B\n",
    "      2.- Sigue viva si el numero de sus vecinos esta en S\n",
    "    \"\"\"\n",
    "    v = vecindario(b)\n",
    "    buffer_b = b.copy()  # Hacemos una copia de la matriz\n",
    "    \n",
    "    for i in range(buffer_b.shape[0]):\n",
    "        for j in range(buffer_b.shape[1]):\n",
    "            # nace si el conjunto de vecinos esta en B\n",
    "            if (b[i, j] == 0) and (v[i, j] in B):\n",
    "              #print(b[i,j], i, j)\n",
    "              buffer_b[i, j] = 1\n",
    "            #sigue viva si el conjunto de vecinos esta en S\n",
    "            elif (b[i, j] == 1) and (v[i, j] in S):\n",
    "                buffer_b[i, j] = 1\n",
    "            else:\n",
    "                buffer_b[i, j] = 0\n",
    "    return buffer_b"
   ]
  },
  {
   "cell_type": "code",
   "execution_count": 24,
   "metadata": {
    "colab": {
     "base_uri": "https://localhost:8080/",
     "height": 104
    },
    "colab_type": "code",
    "executionInfo": {
     "elapsed": 1041,
     "status": "ok",
     "timestamp": 1570906210966,
     "user": {
      "displayName": "Eliseo Morales",
      "photoUrl": "",
      "userId": "01947167724432116230"
     },
     "user_tz": 300
    },
    "id": "SWf1rCpzGIn3",
    "outputId": "cbf5f342-6610-4c27-fc68-6572e0e5ced1"
   },
   "outputs": [
    {
     "data": {
      "text/plain": [
       "array([[0, 0, 1, ..., 0, 0, 0],\n",
       "       [0, 1, 1, ..., 0, 0, 0],\n",
       "       [0, 1, 1, ..., 0, 0, 0],\n",
       "       ...,\n",
       "       [0, 0, 0, ..., 0, 0, 0],\n",
       "       [0, 0, 0, ..., 0, 0, 0],\n",
       "       [0, 0, 0, ..., 0, 0, 0]])"
      ]
     },
     "execution_count": 24,
     "metadata": {},
     "output_type": "execute_result"
    }
   ],
   "source": [
    "regla(espacio, [3], [2,3])"
   ]
  },
  {
   "cell_type": "code",
   "execution_count": null,
   "metadata": {
    "colab": {},
    "colab_type": "code",
    "id": "xMraAU6GGXif"
   },
   "outputs": [],
   "source": []
  },
  {
   "cell_type": "code",
   "execution_count": 25,
   "metadata": {
    "colab": {
     "base_uri": "https://localhost:8080/",
     "height": 104
    },
    "colab_type": "code",
    "executionInfo": {
     "elapsed": 1021,
     "status": "ok",
     "timestamp": 1570906210967,
     "user": {
      "displayName": "Eliseo Morales",
      "photoUrl": "",
      "userId": "01947167724432116230"
     },
     "user_tz": 300
    },
    "id": "_zuxcVklLWQi",
    "outputId": "8e0de6ab-92f5-4646-b928-f5386830ae97"
   },
   "outputs": [
    {
     "data": {
      "text/plain": [
       "array([[0, 0, 1, ..., 0, 0, 0],\n",
       "       [0, 1, 1, ..., 0, 0, 0],\n",
       "       [0, 1, 1, ..., 0, 0, 0],\n",
       "       ...,\n",
       "       [0, 0, 0, ..., 0, 0, 0],\n",
       "       [0, 0, 0, ..., 0, 0, 0],\n",
       "       [0, 0, 0, ..., 0, 0, 0]])"
      ]
     },
     "execution_count": 25,
     "metadata": {},
     "output_type": "execute_result"
    }
   ],
   "source": [
    "#generacion 1\n",
    "regla(espacio, [3], [2,3])"
   ]
  },
  {
   "cell_type": "code",
   "execution_count": 26,
   "metadata": {
    "colab": {
     "base_uri": "https://localhost:8080/",
     "height": 104
    },
    "colab_type": "code",
    "executionInfo": {
     "elapsed": 1009,
     "status": "ok",
     "timestamp": 1570906210968,
     "user": {
      "displayName": "Eliseo Morales",
      "photoUrl": "",
      "userId": "01947167724432116230"
     },
     "user_tz": 300
    },
    "id": "D7zqIUNtTJUY",
    "outputId": "cd9b87e4-13f3-4824-f8f5-7e94deb9c195"
   },
   "outputs": [
    {
     "data": {
      "text/plain": [
       "array([[0, 1, 1, ..., 0, 0, 0],\n",
       "       [0, 0, 0, ..., 0, 0, 0],\n",
       "       [0, 1, 0, ..., 0, 0, 0],\n",
       "       ...,\n",
       "       [0, 0, 0, ..., 0, 0, 0],\n",
       "       [0, 0, 0, ..., 0, 0, 0],\n",
       "       [0, 0, 0, ..., 0, 0, 0]])"
      ]
     },
     "execution_count": 26,
     "metadata": {},
     "output_type": "execute_result"
    }
   ],
   "source": [
    "#generacion 2\n",
    "regla(regla(espacio, [3], [2,3]), [3], [2,3])"
   ]
  },
  {
   "cell_type": "code",
   "execution_count": 51,
   "metadata": {
    "colab": {},
    "colab_type": "code",
    "id": "FbDV_IEUM9LP"
   },
   "outputs": [],
   "source": [
    "def animate(i):\n",
    "    b = imagen.get_array()\n",
    "    #print(b)\n",
    "    b = regla(b, [3], [2,3])\n",
    "    #print(regla(b, [3], [2,3]))\n",
    "    imagen.set_array(b)\n",
    "    #print(imagen)\n",
    "    return [imagen]"
   ]
  },
  {
   "cell_type": "code",
   "execution_count": 58,
   "metadata": {
    "colab": {
     "base_uri": "https://localhost:8080/",
     "height": 269
    },
    "colab_type": "code",
    "executionInfo": {
     "elapsed": 1076,
     "status": "ok",
     "timestamp": 1570906762131,
     "user": {
      "displayName": "Eliseo Morales",
      "photoUrl": "",
      "userId": "01947167724432116230"
     },
     "user_tz": 300
    },
    "id": "Av3GhA9NNpEc",
    "outputId": "61ee509e-09b9-4bab-b851-6c6fc5f69d21"
   },
   "outputs": [
    {
     "data": {
      "image/png": "[encoded data removed]",
      "text/plain": [
       "<Figure size 432x288 with 1 Axes>"
      ]
     },
     "metadata": {
      "needs_background": "light"
     },
     "output_type": "display_data"
    }
   ],
   "source": [
    "# crear figura\n",
    "fig, ax = plt.subplots()\n",
    "\n",
    "imagen = ax.imshow(espacio, interpolation=\"none\", cmap='binary')\n",
    "anim = animation.FuncAnimation(fig, animate, frames=1000, interval=1000/24, blit=False)"
   ]
  },
  {
   "cell_type": "code",
   "execution_count": null,
   "metadata": {
    "colab": {
     "base_uri": "https://localhost:8080/",
     "height": 387
    },
    "colab_type": "code",
    "executionInfo": {
     "elapsed": 9362,
     "status": "ok",
     "timestamp": 1570906784229,
     "user": {
      "displayName": "Eliseo Morales",
      "photoUrl": "",
      "userId": "01947167724432116230"
     },
     "user_tz": 300
    },
    "id": "UBdKrdk2PMFx",
    "outputId": "6833bee7-121a-4770-a4b0-eba70adfa3e1"
   },
   "outputs": [],
   "source": [
    "display.display_html(anim.to_jshtml(), raw=True)"
   ]
  },
  {
   "cell_type": "code",
   "execution_count": null,
   "metadata": {
    "colab": {},
    "colab_type": "code",
    "id": "_O-Q7-zQQ3JR"
   },
   "outputs": [],
   "source": []
  },
  {
   "cell_type": "code",
   "execution_count": null,
   "metadata": {},
   "outputs": [],
   "source": []
  },
  {
   "cell_type": "code",
   "execution_count": null,
   "metadata": {},
   "outputs": [],
   "source": []
  },
  {
   "cell_type": "code",
   "execution_count": null,
   "metadata": {},
   "outputs": [],
   "source": []
  },
  {
   "cell_type": "code",
   "execution_count": null,
   "metadata": {},
   "outputs": [],
   "source": []
  },
  {
   "cell_type": "code",
   "execution_count": null,
   "metadata": {},
   "outputs": [],
   "source": []
  },
  {
   "cell_type": "code",
   "execution_count": null,
   "metadata": {},
   "outputs": [],
   "source": []
  }
 ],
 "metadata": {
  "colab": {
   "collapsed_sections": [],
   "name": "Untitled1.ipynb",
   "provenance": []
  },
  "kernelspec": {
   "display_name": "Python 3",
   "language": "python",
   "name": "python3"
  },
  "language_info": {
   "codemirror_mode": {
    "name": "ipython",
    "version": 3
   },
   "file_extension": ".py",
   "mimetype": "text/x-python",
   "name": "python",
   "nbconvert_exporter": "python",
   "pygments_lexer": "ipython3",
   "version": "3.7.3"
  }
 },
 "nbformat": 4,
 "nbformat_minor": 4
}
