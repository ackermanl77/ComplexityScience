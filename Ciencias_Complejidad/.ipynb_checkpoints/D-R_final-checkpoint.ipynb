{
 "cells": [
  {
   "cell_type": "code",
   "execution_count": 1,
   "metadata": {},
   "outputs": [],
   "source": [
    "import numpy as np\n",
    "from scipy import signal\n",
    "import matplotlib.pyplot as plt\n",
    "from matplotlib import animation\n",
    "plt.rcParams['animation.embed_limit'] = 2**128\n",
    "from IPython import display"
   ]
  },
  {
   "cell_type": "code",
   "execution_count": 2,
   "metadata": {},
   "outputs": [
    {
     "data": {
      "text/plain": [
       "array([[5, 5, 5, ..., 5, 5, 5],\n",
       "       [0, 0, 0, ..., 0, 1, 0],\n",
       "       [1, 0, 0, ..., 0, 0, 0],\n",
       "       ...,\n",
       "       [0, 1, 0, ..., 0, 0, 1],\n",
       "       [1, 1, 1, ..., 1, 0, 1],\n",
       "       [0, 0, 0, ..., 0, 0, 0]])"
      ]
     },
     "execution_count": 2,
     "metadata": {},
     "output_type": "execute_result"
    }
   ],
   "source": [
    "n = 32\n",
    "q = 0.3\n",
    "A = (np.random.random(size = (n, n)) <= q).astype(int)\n",
    "A[0] = 5\n",
    "A"
   ]
  },
  {
   "cell_type": "code",
   "execution_count": 3,
   "metadata": {},
   "outputs": [
    {
     "data": {
      "text/plain": [
       "array([[5, 5, 5, ..., 5, 5, 5],\n",
       "       [0, 1, 0, ..., 1, 0, 1],\n",
       "       [0, 1, 1, ..., 1, 0, 0],\n",
       "       ...,\n",
       "       [0, 1, 0, ..., 1, 0, 0],\n",
       "       [0, 0, 1, ..., 0, 0, 1],\n",
       "       [1, 0, 0, ..., 0, 0, 1]])"
      ]
     },
     "execution_count": 3,
     "metadata": {},
     "output_type": "execute_result"
    }
   ],
   "source": [
    "n = 32\n",
    "q = 0.3\n",
    "A = (np.random.random(size = (n - 1, n)) <= q).astype(int)\n",
    "A = np.vstack([[5]*n, A])\n",
    "A"
   ]
  },
  {
   "cell_type": "code",
   "execution_count": 4,
   "metadata": {},
   "outputs": [
    {
     "data": {
      "text/plain": [
       "(32, 32)"
      ]
     },
     "execution_count": 4,
     "metadata": {},
     "output_type": "execute_result"
    }
   ],
   "source": [
    "A.shape"
   ]
  },
  {
   "cell_type": "code",
   "execution_count": 5,
   "metadata": {},
   "outputs": [],
   "source": [
    "w = np.array([\n",
    "    [0, 1, 0],\n",
    "    [1, 0, 1],\n",
    "    [0, 1, 0]\n",
    "    ])"
   ]
  },
  {
   "cell_type": "code",
   "execution_count": 6,
   "metadata": {},
   "outputs": [
    {
     "data": {
      "text/plain": [
       "array([[ 5, 11, 10, ..., 11, 10,  6],\n",
       "       [ 6,  6,  7, ...,  7,  7,  5],\n",
       "       [ 2,  3,  1, ...,  2,  1,  1],\n",
       "       ...,\n",
       "       [ 2,  0,  2, ...,  0,  2,  1],\n",
       "       [ 1,  2,  0, ...,  1,  1,  1],\n",
       "       [ 0,  1,  1, ...,  0,  1,  1]])"
      ]
     },
     "execution_count": 6,
     "metadata": {},
     "output_type": "execute_result"
    }
   ],
   "source": [
    "signal.correlate2d(A, w, mode='same')"
   ]
  },
  {
   "cell_type": "code",
   "execution_count": 7,
   "metadata": {},
   "outputs": [
    {
     "data": {
      "text/plain": [
       "array([[False, False, False, ..., False, False, False],\n",
       "       [False,  True, False, ...,  True, False,  True],\n",
       "       [False,  True,  True, ...,  True, False, False],\n",
       "       ...,\n",
       "       [False,  True, False, ...,  True, False, False],\n",
       "       [False, False,  True, ..., False, False,  True],\n",
       "       [ True, False, False, ..., False, False,  True]])"
      ]
     },
     "execution_count": 7,
     "metadata": {},
     "output_type": "execute_result"
    }
   ],
   "source": [
    "A == 1"
   ]
  },
  {
   "cell_type": "code",
   "execution_count": 8,
   "metadata": {},
   "outputs": [
    {
     "data": {
      "text/plain": [
       "array([[ 5, 11, 10, ..., 11, 10,  6],\n",
       "       [ 6,  6,  7, ...,  7,  7,  5],\n",
       "       [ 2,  3,  1, ...,  2,  1,  1],\n",
       "       ...,\n",
       "       [ 2,  0,  2, ...,  0,  2,  1],\n",
       "       [ 1,  2,  0, ...,  1,  1,  1],\n",
       "       [ 0,  1,  1, ...,  0,  1,  1]])"
      ]
     },
     "execution_count": 8,
     "metadata": {},
     "output_type": "execute_result"
    }
   ],
   "source": [
    "c = signal.correlate2d(A, w, mode='same')\n",
    "c"
   ]
  },
  {
   "cell_type": "code",
   "execution_count": 9,
   "metadata": {},
   "outputs": [
    {
     "data": {
      "text/plain": [
       "array([[5, 5, 5, ..., 5, 5, 5],\n",
       "       [0, 5, 0, ..., 5, 0, 5],\n",
       "       [0, 1, 1, ..., 1, 0, 0],\n",
       "       ...,\n",
       "       [0, 1, 0, ..., 1, 0, 0],\n",
       "       [0, 0, 1, ..., 0, 0, 1],\n",
       "       [1, 0, 0, ..., 0, 0, 1]])"
      ]
     },
     "execution_count": 9,
     "metadata": {},
     "output_type": "execute_result"
    }
   ],
   "source": [
    "A[(A==1)&(c>=5)]=5\n",
    "A"
   ]
  },
  {
   "cell_type": "code",
   "execution_count": 10,
   "metadata": {},
   "outputs": [],
   "source": [
    "def paso_percolacion(A):\n",
    "    c = signal.correlate2d(A, w, mode='same')\n",
    "    A[(A==1)&(c>=5)]=5"
   ]
  },
  {
   "cell_type": "code",
   "execution_count": null,
   "metadata": {},
   "outputs": [],
   "source": [
    "def animate(i):\n",
    "    A = imagen.get_array()\n",
    "    r = 0.1\n",
    "    A = A + r*(signal.correlate2d(A, w, mode='same'))\n",
    "    imagen.set_array(A)"
   ]
  },
  {
   "cell_type": "code",
   "execution_count": null,
   "metadata": {},
   "outputs": [],
   "source": [
    "# crear figura\n",
    "fig, ax = plt.subplots()\n",
    "ax.set_axis_off()\n",
    "imagen = ax.imshow(A, cmap='Reds', interpolation='bicubic')\n",
    "anim = animation.FuncAnimation(fig, animate, frames=1000, interval=10000/12)"
   ]
  },
  {
   "cell_type": "code",
   "execution_count": null,
   "metadata": {},
   "outputs": [],
   "source": [
    "display.display_html(anim.to_jshtml(), raw=True)"
   ]
  },
  {
   "cell_type": "code",
   "execution_count": null,
   "metadata": {},
   "outputs": [],
   "source": [
    "kw = {'a':1, 'b':2}\n",
    "#f(**kw)"
   ]
  },
  {
   "cell_type": "code",
   "execution_count": null,
   "metadata": {},
   "outputs": [],
   "source": [
    "def concentrar(A, altura=0.1, factor=20):\n",
    "    m, n = A.shape\n",
    "    radio = (min(m, n) - 1)//20 + 1\n",
    "    h, k = m//2, n//2\n",
    "    A[h-radio:h+radio, k-radio:k+radio] += altura"
   ]
  },
  {
   "cell_type": "code",
   "execution_count": null,
   "metadata": {},
   "outputs": [],
   "source": [
    "A = np.zeros((100, 100))\n",
    "#concentrar(A)\n",
    "\n",
    "n, m, ruido = 100, 100, 0.1\n",
    "ra, rb, f, k = 0.5, 0.25, 0.039, 0.065\n",
    "\n",
    "A = np.ones((n, m), dtype = float)\n",
    "B = ruido * np.random.random((n, m))\n",
    "concentrar(B)\n",
    "\n",
    "def transicion(i):\n",
    "    global A, B, dt\n",
    "    reaccion = A * B**2\n",
    "    for i in range(16):\n",
    "        A += ra * signal.correlate2d(A, w, mode='same', boundary='wrap') - reaccion + f * (1 - A)\n",
    "        B += rb * signal.correlate2d(B, w, mode='same', boundary='wrap') + reaccion - (f + k) * B\n",
    "    imagenA.set_array(A)\n",
    "    imagenB.set_array(B)"
   ]
  },
  {
   "cell_type": "code",
   "execution_count": null,
   "metadata": {},
   "outputs": [],
   "source": [
    "# crear figura\n",
    "fig, ax = plt.subplots(figsize=(7,7))\n",
    "ax.set_axis_off()\n",
    "imagenA = ax.imshow(A, cmap='Reds', interpolation='bicubic')\n",
    "imagenB = ax.imshow(B, cmap='Blues', interpolation='bicubic')\n",
    "anim = animation.FuncAnimation(fig, transicion, frames=1000, interval=1000/24)"
   ]
  },
  {
   "cell_type": "code",
   "execution_count": null,
   "metadata": {},
   "outputs": [],
   "source": [
    "ax.set_axis_off()\n",
    "display.display_html(anim.to_jshtml(), raw=True)"
   ]
  },
  {
   "cell_type": "code",
   "execution_count": null,
   "metadata": {},
   "outputs": [],
   "source": []
  },
  {
   "cell_type": "code",
   "execution_count": null,
   "metadata": {},
   "outputs": [],
   "source": []
  },
  {
   "cell_type": "code",
   "execution_count": null,
   "metadata": {},
   "outputs": [],
   "source": []
  }
 ],
 "metadata": {
  "kernelspec": {
   "display_name": "Python 3",
   "language": "python",
   "name": "python3"
  },
  "language_info": {
   "codemirror_mode": {
    "name": "ipython",
    "version": 3
   },
   "file_extension": ".py",
   "mimetype": "text/x-python",
   "name": "python",
   "nbconvert_exporter": "python",
   "pygments_lexer": "ipython3",
   "version": "3.7.5"
  }
 },
 "nbformat": 4,
 "nbformat_minor": 4
}
