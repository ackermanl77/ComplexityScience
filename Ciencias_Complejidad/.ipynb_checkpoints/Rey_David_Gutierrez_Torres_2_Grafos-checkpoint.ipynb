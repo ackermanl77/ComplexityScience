{
 "cells": [
  {
   "cell_type": "code",
   "execution_count": 1,
   "metadata": {
    "colab": {},
    "colab_type": "code",
    "id": "5jv-y8tu-ECB"
   },
   "outputs": [],
   "source": [
    "import math\n",
    "import warnings\n",
    "from typing import Callable, List, Optional, Sequence\n",
    "from itertools import product\n",
    "import matplotlib.pyplot as plt\n",
    "import networkx as nx\n",
    "import numpy as np\n",
    "import random"
   ]
  },
  {
   "cell_type": "code",
   "execution_count": 2,
   "metadata": {
    "colab": {},
    "colab_type": "code",
    "id": "X9KgIFJr-ECF"
   },
   "outputs": [],
   "source": [
    "# TODO: quitar esto cuando NetworkX funcione correctamente otra vez.\n",
    "import matplotlib.cbook\n",
    "warnings.simplefilter(\"ignore\", matplotlib.cbook.mplDeprecation)"
   ]
  },
  {
   "cell_type": "code",
   "execution_count": 3,
   "metadata": {
    "colab": {},
    "colab_type": "code",
    "id": "urVhRXGH-ECJ"
   },
   "outputs": [],
   "source": [
    "%matplotlib inline"
   ]
  },
  {
   "cell_type": "markdown",
   "metadata": {
    "colab_type": "text",
    "id": "mzIQgylX-ECM"
   },
   "source": [
    "# 2. Grafos\n",
    "Un **grafo** es una colección de puntos y líneas que conectan parejas de \n",
    "estos puntos. A los puntos les llamamos **vértices** o **nodos** y a las\n",
    "líneas **aristas** o **arcos**."
   ]
  },
  {
   "cell_type": "markdown",
   "metadata": {
    "colab_type": "text",
    "id": "JSOkaNFY-ECN"
   },
   "source": [
    "## 2.1 Representación en computadora\n",
    "En general, hay tres formas de representar comunes de un grafo: Lista\n",
    "(o tabla hash) de adyacencia, lista de incidencia y matriz de\n",
    "adyacencia."
   ]
  },
  {
   "cell_type": "markdown",
   "metadata": {
    "colab_type": "text",
    "id": "lGgnc94L-ECO"
   },
   "source": [
    "### Lista de incidencia\n",
    "La lista de incidencia trata de imitar fielmente la definición\n",
    "matemática conjuntista de que un grafo $G$ es una pareja $(V, E)$ donde\n",
    "$V$ esl el conjunto de vértices y $E$ el de aristas.\n",
    "Ejemplo:"
   ]
  },
  {
   "cell_type": "code",
   "execution_count": 4,
   "metadata": {
    "colab": {},
    "colab_type": "code",
    "id": "yiX8q_B3-ECP"
   },
   "outputs": [],
   "source": [
    "G = (['A', 'B', 'C', 'D'], [('A', 'B'), ('A', 'C'), ('B', 'C'), ('C', 'D')])"
   ]
  },
  {
   "cell_type": "markdown",
   "metadata": {
    "colab_type": "text",
    "id": "nLbWOPH3-ECS"
   },
   "source": [
    "### Matriz de adyacencia\n",
    "Todo grafo de $n$ tiene asociada su **matriz de adyacencia** $A = \n",
    "\\left(a\\right)_{i\\, j}$dada por\n",
    "$$\\left(a\\right)_{i\\, j} = \\begin{cases}\n",
    "1 & \\text{si hay una arista entre los vértices }v_i\\text{ y }v_j;\\\\\n",
    "0 & \\text{si no.}\n",
    "\\end{cases}$$\n",
    "**Observación** Esta representación depende de manera implícita de un\n",
    "ordenamiento de los vértices.\n",
    "\n",
    "Ejemplo:"
   ]
  },
  {
   "cell_type": "code",
   "execution_count": 5,
   "metadata": {
    "colab": {},
    "colab_type": "code",
    "id": "tMCJwxPC-ECT"
   },
   "outputs": [],
   "source": [
    "G = [[0, 1, 1, 0],\n",
    "     [1, 0, 1, 0],\n",
    "     [1, 1, 0, 1],\n",
    "     [0, 0, 1, 0]]"
   ]
  },
  {
   "cell_type": "markdown",
   "metadata": {
    "colab_type": "text",
    "id": "WvMiNS46-ECW"
   },
   "source": [
    "### Lista de adyacencia\n",
    "La manera más común de representar un grafo en una computadora.\n",
    "Cada vértice tiene asociado una colección de sus vecinos.\n",
    "De manera tradicional esta colección de vecinos se representa mediante\n",
    "una lista ligada, pero ahora es más común verla como una tabla hash\n",
    "debido a las mejoras en la complejidad temporal.\n",
    "\n",
    "Ejemplo:"
   ]
  },
  {
   "cell_type": "code",
   "execution_count": 6,
   "metadata": {
    "colab": {},
    "colab_type": "code",
    "id": "4SWk8p71-ECX"
   },
   "outputs": [],
   "source": [
    "G = {'A': {'B', 'C'},\n",
    "     'B': {'A', 'C'},\n",
    "     'C': {'A', 'B', 'D'},\n",
    "     'D': {'C'}}"
   ]
  },
  {
   "cell_type": "markdown",
   "metadata": {
    "colab_type": "text",
    "id": "qJ2YaCct-ECa"
   },
   "source": [
    "### Complejidad de operaciones básicas según su representación\n",
    "He aquí un resumen de la complejidad computacional involucrada para\n",
    "representar un grafo de $n$ vértices y $m$ aristas.\n",
    "\n",
    "Operación        |Lista de incidencia|Matriz de adyacencia|Lista de adyacencia\n",
    "-----------------|-------------------|--------------------|--------------------\n",
    "Memoria          |$O(n + m)$         |$O(n^2)$            |$O(n + m)$\n",
    "Consultar vértice|$O(1)$             |$O(1)$              |$O(n)$\n",
    "Consultar arista |$O(m)$             |$O(1)$              |$O(1)$\n",
    "Agregar vértice  |$O(1)$             |$O(n^2)$            |$O(1)$\n",
    "Eliminar vértice |$O(n + m)$         |$O(n^2)$            |$O(n)$\n",
    "Agregar arista   |$O(n)$             |$O(1)$              |$O(1)$\n",
    "Eliminar arista  |$O(m)$             |$O(1)$              |$O(1)$\n",
    "Iterar vértices  |$O(n)$             |$O(n)$              |$O(n)$\n",
    "Iterar aristas   |$O(m)$             |$O(n^2)$            |$O(n + m)$\n",
    "Iterar vecinos   |$O(n + m)$         |$O(n)$              |$O(n)$"
   ]
  },
  {
   "cell_type": "markdown",
   "metadata": {
    "colab_type": "text",
    "id": "YZ-4wMQV-ECb"
   },
   "source": [
    "## 2.2 Uso de NetworkX\n",
    "\n",
    "NetworkX es una biblioteca de Python orientada al análisis de redes.\n",
    "Internamente está basada en la representación por listas de adyacencia\n",
    "usando tablas hash."
   ]
  },
  {
   "cell_type": "code",
   "execution_count": 7,
   "metadata": {
    "colab": {
     "base_uri": "https://localhost:8080/",
     "height": 34
    },
    "colab_type": "code",
    "id": "9gf8Ueva-ECc",
    "outputId": "ed4cf341-f037-40cb-c242-8eab70116068"
   },
   "outputs": [
    {
     "data": {
      "text/plain": [
       "NodeView(('A', 'B', 'C', 'D'))"
      ]
     },
     "execution_count": 7,
     "metadata": {},
     "output_type": "execute_result"
    }
   ],
   "source": [
    "G = nx.Graph()\n",
    "G.add_nodes_from(list('ABCD'))\n",
    "G.nodes"
   ]
  },
  {
   "cell_type": "code",
   "execution_count": 8,
   "metadata": {
    "colab": {
     "base_uri": "https://localhost:8080/",
     "height": 34
    },
    "colab_type": "code",
    "id": "wsbXOjgz-ECf",
    "outputId": "2f429582-4902-4fa1-fb21-5d204176ebbd"
   },
   "outputs": [
    {
     "data": {
      "text/plain": [
       "EdgeView([('A', 'C'), ('A', 'B')])"
      ]
     },
     "execution_count": 8,
     "metadata": {},
     "output_type": "execute_result"
    }
   ],
   "source": [
    "G.add_edges_from([('A', 'C'), ('B', 'A')])\n",
    "G.edges"
   ]
  },
  {
   "cell_type": "code",
   "execution_count": 9,
   "metadata": {
    "colab": {
     "base_uri": "https://localhost:8080/",
     "height": 34
    },
    "colab_type": "code",
    "id": "3zzqOMGE-ECi",
    "outputId": "26748f09-7184-4085-87e4-a933e4d21d0e"
   },
   "outputs": [
    {
     "data": {
      "text/plain": [
       "EdgeView([('A', 'C'), ('A', 'B'), ('B', 'C')])"
      ]
     },
     "execution_count": 9,
     "metadata": {},
     "output_type": "execute_result"
    }
   ],
   "source": [
    "G.add_path(['A', 'B', 'C'])\n",
    "G.edges"
   ]
  },
  {
   "cell_type": "code",
   "execution_count": 10,
   "metadata": {
    "colab": {
     "base_uri": "https://localhost:8080/",
     "height": 319
    },
    "colab_type": "code",
    "id": "zvi8ySTo-ECl",
    "outputId": "330ebc0d-5e43-4ca0-94bf-a012979c5285"
   },
   "outputs": [
    {
     "data": {
      "image/png": "[encoded data removed]",
      "text/plain": [
       "<Figure size 432x288 with 1 Axes>"
      ]
     },
     "metadata": {},
     "output_type": "display_data"
    }
   ],
   "source": [
    "nx.draw(G, with_labels=True)"
   ]
  },
  {
   "cell_type": "markdown",
   "metadata": {
    "colab_type": "text",
    "id": "G2j4Ssaz-ECo"
   },
   "source": [
    "# 2.3 Creación de grafos"
   ]
  },
  {
   "cell_type": "code",
   "execution_count": 11,
   "metadata": {
    "colab": {
     "base_uri": "https://localhost:8080/",
     "height": 319
    },
    "colab_type": "code",
    "id": "Ng3JKkT1-ECp",
    "outputId": "68f06fcf-8b6c-4a82-bd20-46c0f7cb2bd1"
   },
   "outputs": [
    {
     "data": {
      "image/png": "[encoded data removed]",
      "text/plain": [
       "<Figure size 432x288 with 1 Axes>"
      ]
     },
     "metadata": {},
     "output_type": "display_data"
    }
   ],
   "source": [
    "def grafo_completo(n: int) -> nx.Graph:\n",
    "    G = nx.Graph()\n",
    "    G.add_nodes_from(range(n))\n",
    "    for u in range(n):\n",
    "        for v in range(u):\n",
    "            G.add_edge(u, v)\n",
    "    return G\n",
    "\n",
    "nx.draw(grafo_completo(5))"
   ]
  },
  {
   "cell_type": "code",
   "execution_count": 12,
   "metadata": {
    "colab": {
     "base_uri": "https://localhost:8080/",
     "height": 319
    },
    "colab_type": "code",
    "id": "7LWGLyfS-ECs",
    "outputId": "9f96326a-9279-4acd-eb9f-02670d5d8c34"
   },
   "outputs": [
    {
     "data": {
      "image/png": "[encoded data removed]",
      "text/plain": [
       "<Figure size 432x288 with 1 Axes>"
      ]
     },
     "metadata": {},
     "output_type": "display_data"
    }
   ],
   "source": [
    "def grafo_bipartito(n1: int, n2:int) -> nx.Graph:\n",
    "    G = nx.Graph()\n",
    "    G.add_nodes_from(range(n1 + n2))\n",
    "    for x in range(n1):\n",
    "        for y in range(n1, n1 + n2):\n",
    "            G.add_edge(x, y)\n",
    "    return G\n",
    "nx.draw(grafo_bipartito(3, 3), with_labels=True)"
   ]
  },
  {
   "cell_type": "markdown",
   "metadata": {
    "colab_type": "text",
    "id": "dG1BK9Iv-ECv"
   },
   "source": [
    "**Ejercicio:** Programar una función para crear un [grafo hipercubo][1]\n",
    "de dimensión $k$.\n",
    "\n",
    "**Doble clic aquí para ver la solución...**\n",
    "<!--\n",
    "```python\n",
    "def grafo_hipercubo(k: int) -> nx.Graph:\n",
    "    def son_vecinos(u: int, v: int):\n",
    "        s, t, f = a_binario(u), a_binario(v), False\n",
    "        for a, b in zip(s, t):         # Iterar los bits de s y t a la par\n",
    "            if f and a != b:           # ¿Hallamos dos diferencias?\n",
    "                return False           # No son vecinos\n",
    "            f |= (a != b)              # Poner bandera si a y b son distintos\n",
    "        return f\n",
    "    \n",
    "    a_binario = ('{:0' + str(k) + 'b}').format  # Función para convertir a bin.\n",
    "    \n",
    "    G = nx.Graph()\n",
    "    G.add_nodes_from(range(2**k))\n",
    "    for u in range(2**k):\n",
    "        for v in range(u):\n",
    "            if son_vecinos(u, v):\n",
    "                G.add_edge(u, v)\n",
    "    return G\n",
    "\n",
    "nx.draw(grafo_hipercubo(4), with_labels=True)\n",
    "```\n",
    "-->\n",
    "\n",
    "[1]:http://mathworld.wolfram.com/HypercubeGraph.html"
   ]
  },
  {
   "cell_type": "markdown",
   "metadata": {
    "colab_type": "text",
    "id": "wtXJW79B-ECw"
   },
   "source": [
    "Estos mismos algortimos ya vienen implementados en NetworkX.\n",
    "Se pueden usar de la siguiente manera:\n",
    "```python\n",
    "G = nx.complete_graph(5)\n",
    "G = nx.complete_bipartite_graph(3, 3)\n",
    "G = nx.hypercube_graph(4)\n",
    "```"
   ]
  },
  {
   "cell_type": "markdown",
   "metadata": {
    "colab_type": "text",
    "id": "PEpbtfle-ECx"
   },
   "source": [
    "## 2.4 El modelo de Erdős–Rényi\n",
    "\n",
    "En 1060 los matemáticos Paul Erdős Alfréd Rényi publicaron su artículo\n",
    "[On the evolution of random graphs](1) donde describen una manera de\n",
    "generar grafos aleatorios y luego analizan sus características.\n",
    "\n",
    "En su modelo, denotamos por $G\\left(n, p\\right)$ a uno de los grafos de\n",
    "$n$ vértices donde cada una de las $\\binom{n}{2}$ aristas posibles tiene\n",
    "probabilidad $p$ de existir.\n",
    "\n",
    "[1]:https://www.renyi.hu/~p_erdos/1960-10.pdf"
   ]
  },
  {
   "cell_type": "code",
   "execution_count": 13,
   "metadata": {
    "colab": {
     "base_uri": "https://localhost:8080/",
     "height": 319
    },
    "colab_type": "code",
    "id": "KbB0bUGp-ECy",
    "outputId": "550f0244-b493-434f-b0c2-a6e3057ccc1a"
   },
   "outputs": [
    {
     "data": {
      "image/png": "[encoded data removed]",
      "text/plain": [
       "<Figure size 432x288 with 1 Axes>"
      ]
     },
     "metadata": {},
     "output_type": "display_data"
    }
   ],
   "source": [
    "def tirar_moneda(p: float) -> bool:\n",
    "    return random.random() <= p\n",
    "\n",
    "def grafo_aleatorio(n: int, p: float) -> nx.Graph:\n",
    "    G = nx.Graph()\n",
    "    G.add_nodes_from(range(n))\n",
    "    for u in range(n):\n",
    "        for v in range(u):\n",
    "            if tirar_moneda(p):\n",
    "                G.add_edge(u, v)\n",
    "    return G\n",
    "\n",
    "nx.draw(grafo_aleatorio(20, 0.2))"
   ]
  },
  {
   "cell_type": "markdown",
   "metadata": {
    "colab_type": "text",
    "id": "nrFgiAD0-EC1"
   },
   "source": [
    "El estudio de estos grafos se hizo tomando en consideración\n",
    "$n \\to \\infty$, de manera que la expresión *casi seguramente $X$* se\n",
    "debe entender como *conforme $n \\to \\infty$, la probabilidad de que\n",
    "ocurra $X$ tiende a $1$*; así, entre los resultados más interesantes del\n",
    "artículo están los siguientes:\n",
    "\n",
    "- Si $p < \\frac{(1 - \\varepsilon)\\, \\ln n}{n}$ entonces el grafo\n",
    "  $G(n, p)$ casi seguramente tendrá vértices aislados (de grado 0) y\n",
    "  por tanto será un grafo disconexo.\n",
    "- Si $p > \\frac{(1 + \\varepsilon)\\, \\ln n}{n}$ entonces el grafo\n",
    "  $G(n, p)$ casi seguramente será conexo.\n",
    "- Por tanto, $p = \\frac{\\ln n}{n}$ es un umbral que delimita grafos\n",
    "  conexos y disconexos."
   ]
  },
  {
   "cell_type": "markdown",
   "metadata": {
    "colab_type": "text",
    "id": "qGUGxnK9-EC2"
   },
   "source": [
    "Para poner a prueba este resultado vamos a programar un algoritmo que\n",
    "determina si un grafo es conexo y luego vamos a calcular la probabilidad\n",
    "de conexión mediante una serie de simulaciones."
   ]
  },
  {
   "cell_type": "code",
   "execution_count": 14,
   "metadata": {
    "colab": {},
    "colab_type": "code",
    "id": "x1HT8Lul-EC3"
   },
   "outputs": [],
   "source": [
    "def es_conexa(G: nx.Graph) -> bool:\n",
    "    def visitar(u):\n",
    "        visitados.add(u)               # Marcar u como visitado\n",
    "        for v in G.neighbors(u):       # Para cada vecino v de u\n",
    "            if v not in visitados:     # ¿v no ha sido visitado?\n",
    "                visitar(v)             # Visitar v recursivamente\n",
    "    \n",
    "    visitados = set()                  # Conjunto de nodos visitados\n",
    "    r = next(iter(G.nodes))            # Nodo inicial\n",
    "    visitar(r)                         # Visitar vértices alcanzables desde r\n",
    "    \n",
    "    return set(G.nodes).issubset(visitados) # ¿Todos los nodos visitados?"
   ]
  },
  {
   "cell_type": "markdown",
   "metadata": {
    "colab_type": "text",
    "id": "gphxdth--EC6"
   },
   "source": [
    "Decimos que un nodo $v$ es alcanzable desde otro nodo $u$ en un\n",
    "grafo $G$ si existe un camino de $u$ a $v$ en $G$.\n",
    "Dado que este algoritmo salta de nodo en nodo es claro que todo nodo\n",
    "visitado es alcanzable desde $r$."
   ]
  },
  {
   "cell_type": "markdown",
   "metadata": {
    "colab_type": "text",
    "id": "Giz6wxQ2-EC7"
   },
   "source": [
    "**Teorema** *El algoritmo `es_conexa` visita a todos los vértices\n",
    "alcanzables desde $r$ sin excepción.*\n",
    "> *Demostración.* Supongamos que existe un vértice $z$ que es alcanzable\n",
    "desde $r$ pero que no fue visitado.\n",
    "Entonces existe un camino $r \\leadsto z$ en $G$.\n",
    "Sea $y$ el último vértice visitado en este camino. Sin pérdida de\n",
    "generalidad podemos suponer que se trata del que está justo antes de\n",
    "$z$ (de lo contrario podemos usar el primer vértice no visitado en\n",
    "este camino en lugar de $z$), de modo que el camino se ve así:\n",
    "$$r \\leadsto y \\to z$$\n",
    "Como $y$ fue visitado entonces la línea 5 del algoritmo descubre que\n",
    "$z$ aún no ha sido visitado y entonces lo visita.\n",
    ">\n",
    "> Esto es una contradicción, por lo tanto hemos demostrado que nuestra\n",
    "premisa de que existe tal vértice $z$ es falsa. $\\blacksquare$"
   ]
  },
  {
   "cell_type": "markdown",
   "metadata": {
    "colab_type": "text",
    "id": "-R_5AnQk-EC7"
   },
   "source": [
    "**Teorema** El algoritmo `es_conexa` realiza $O(n + m)$ operaciones.\n",
    "> *Demostración.* Primero notemos que `visitar` solo se puede ejecutar\n",
    "exactamente una vez en cada nodo debido a la línea 3 y la condición en\n",
    "la línea 5.\n",
    "Entonces el peor caso ocurre precisamente cuando se visitan los $n$\n",
    "nodos (y el grafo es conexo).\n",
    "> En cada llamada a `visitar` se hace una cantidad de iteraciones $d_i$\n",
    "que es la cantidad de vecinos del nodo $u_i$.\n",
    "Por el [lema del saludo de manos][1] sabemos que\n",
    "$$\\sum_{i = 1}^{m} d_i = 2\\,m$$\n",
    "Por lo tanto, a lo largo de toda la ejecución se realizan $n$ llamadas\n",
    "recursivas y $2\\,m$ iteraciones. $\\blacksquare$\n",
    "\n",
    "[1]:https://en.wikipedia.org/w/index.php?title=Handshaking_lemma&oldid=897754973"
   ]
  },
  {
   "cell_type": "markdown",
   "metadata": {
    "colab_type": "text",
    "id": "ps8X2A_P-EC8"
   },
   "source": [
    "Como es de esperarse, NetworkX ya tiene implementados los algoritmos\n",
    "para crear un grafo $G(n, p)$ así como para determinar si un grafo es\n",
    "conexo."
   ]
  },
  {
   "cell_type": "code",
   "execution_count": 15,
   "metadata": {
    "colab": {
     "base_uri": "https://localhost:8080/",
     "height": 336
    },
    "colab_type": "code",
    "id": "0qzEL_pq-EC9",
    "outputId": "ca0c7776-2040-4a7d-a9dc-4dee4ef787e8"
   },
   "outputs": [
    {
     "data": {
      "text/plain": [
       "True"
      ]
     },
     "execution_count": 15,
     "metadata": {},
     "output_type": "execute_result"
    },
    {
     "data": {
      "image/png": "[encoded data removed]",
      "text/plain": [
       "<Figure size 432x288 with 1 Axes>"
      ]
     },
     "metadata": {},
     "output_type": "display_data"
    }
   ],
   "source": [
    "G = nx.erdos_renyi_graph(10, 0.5)\n",
    "nx.draw(G, with_labels=True)\n",
    "nx.is_connected(G)"
   ]
  },
  {
   "cell_type": "code",
   "execution_count": 16,
   "metadata": {
    "colab": {},
    "colab_type": "code",
    "id": "-c1Ixe4Q-EDB"
   },
   "outputs": [],
   "source": [
    "def prob_conexa(n: int, p: float, iters: int = 400) -> float:\n",
    "    \"\"\"\n",
    "    Determina la probabilidad de que un grafo aleatorio G(n, p) sea\n",
    "    conexo haciendo iters experimentos.\n",
    "    \"\"\"\n",
    "    grafos = (nx.erdos_renyi_graph(n, p) for _ in range(iters))\n",
    "    conexos = map(nx.is_connected, grafos)\n",
    "    return sum(conexos)/iters"
   ]
  },
  {
   "cell_type": "code",
   "execution_count": 17,
   "metadata": {
    "colab": {},
    "colab_type": "code",
    "id": "ZvOt9dKI-EDH"
   },
   "outputs": [],
   "source": [
    "def graficar_prob_conexa(\n",
    "    n: int, p: Optional[Sequence[float]]=None, iters: int=400) -> float:\n",
    "    if p is None:\n",
    "        p = np.linspace(0, 1, 50)\n",
    "    y = [prob_conexa(n, p_i, iters=400) for p_i in p]\n",
    "    p_star = math.log(n)/n\n",
    "    \n",
    "    fig, ax = plt.subplots()\n",
    "    ax.set_xlabel('Probabilidad de arista (p)')\n",
    "    ax.set_ylabel('Probabilidad de ser conexa')\n",
    "    ax.axvline(p_star, color='tomato', label='Valor umbral teórico')\n",
    "    ax.plot(p, y, color='blue', label='Simulación')\n",
    "    ax.legend()\n",
    "    return fig, ax"
   ]
  },
  {
   "cell_type": "code",
   "execution_count": 18,
   "metadata": {
    "colab": {
     "base_uri": "https://localhost:8080/",
     "height": 283
    },
    "colab_type": "code",
    "id": "3PbUGepN-EDK",
    "outputId": "e00a8e44-7c6e-4fcd-906f-28de6341d04b"
   },
   "outputs": [
    {
     "data": {
      "image/png": "[encoded data removed]",
      "text/plain": [
       "<Figure size 432x288 with 1 Axes>"
      ]
     },
     "metadata": {
      "needs_background": "light"
     },
     "output_type": "display_data"
    }
   ],
   "source": [
    "fig, ax = graficar_prob_conexa(16, iters=25600)"
   ]
  },
  {
   "cell_type": "markdown",
   "metadata": {
    "colab_type": "text",
    "id": "ivRgAAOw-EDM"
   },
   "source": [
    "## Ejercicios"
   ]
  },
  {
   "cell_type": "markdown",
   "metadata": {
    "colab_type": "text",
    "id": "yYCZbQQ1-EDN"
   },
   "source": [
    "### Ej. 1. Recorrido en profundidad iterativo\n",
    "El recorrido en profundidad visto en `es_conexa` se puede adaptar para\n",
    "muchos otros usos; para esto expresamos el algoritmo con dos argumentos\n",
    "más que serán funciones `descubrir` y `finalizar`.\n",
    "En este ejercicio se te pide convertir este algoritmo en una versión\n",
    "iterativa usando una pila para simular la recursividad.\n",
    "\n",
    "**Nota** En Python una pila se puede implementar mediante una lista.\n",
    "`pila.append(x)` sirve para apilar `x` en la cima y `pila.pop()` para\n",
    "desapilar el elemento de la cima."
   ]
  },
  {
   "cell_type": "code",
   "execution_count": 19,
   "metadata": {
    "colab": {},
    "colab_type": "code",
    "id": "Oxv0yLhx-EDO"
   },
   "outputs": [],
   "source": [
    "def recorrido_en_profundidad(G: nx.Graph, \n",
    "                             descubrir: Callable, finalizar: Callable):\n",
    "    def visitar(u):\n",
    "        visitados.add(u)\n",
    "        descubrir(u)\n",
    "        for v in G.neighbors(u):\n",
    "            if v not in visitados:\n",
    "                visitar(v)\n",
    "        finalizar(u)\n",
    "    \n",
    "    visitados = set()\n",
    "    for r in G.nodes:\n",
    "        if r not in visitados:\n",
    "            visitar(r) "
   ]
  },
  {
   "cell_type": "code",
   "execution_count": 240,
   "metadata": {
    "colab": {},
    "colab_type": "code",
    "id": "5ZPLxqOR-EDR"
   },
   "outputs": [],
   "source": [
    "def recorrido_en_profundidad_iterativo(G,\n",
    "                                       descubrir: Callable, finalizar: Callable):\n",
    "        def visitar(u):\n",
    "            stack = []                                  #Creamos la pila\n",
    "            stack.append(u)                             #Metemos el elemento inicial a la pila\n",
    "            finales = []\n",
    "            while stack:                                #Mientras la pila no este vacia\n",
    "                s = stack[-1]\n",
    "                #finalizar(s)\n",
    "                if s not in visitados:\n",
    "                    visitados.add(s)\n",
    "                    descubrir(s)\n",
    "                    neighbors = set(G[s]) - visitados\n",
    "                    stack.extend(neighbors)     \n",
    "                    print(stack.pop())\n",
    "            #finalizar(u)                                      \n",
    "            \n",
    "        visitados = set()\n",
    "        for r in G.nodes:                               #Para cada nodo en el grafo\n",
    "             if r not in visitados:                     #Si no hay sido encontrado\n",
    "                visitar(r)                              #Encontramos"
   ]
  },
  {
   "cell_type": "code",
   "execution_count": 241,
   "metadata": {
    "colab": {
     "base_uri": "https://localhost:8080/",
     "height": 319
    },
    "colab_type": "code",
    "id": "i37P9f-P-EDV",
    "outputId": "ca4109dc-72bb-47cc-8bfa-a61fbb534888"
   },
   "outputs": [
    {
     "data": {
      "image/png": "[encoded data removed]",
      "text/plain": [
       "<Figure size 432x288 with 1 Axes>"
      ]
     },
     "metadata": {},
     "output_type": "display_data"
    }
   ],
   "source": [
    "G = nx.erdos_renyi_graph(10, 0.1, seed=42)\n",
    "nx.draw(G, with_labels=True)"
   ]
  },
  {
   "cell_type": "code",
   "execution_count": 242,
   "metadata": {
    "colab": {
     "base_uri": "https://localhost:8080/",
     "height": 357
    },
    "colab_type": "code",
    "id": "LyiUX0oC-EDX",
    "outputId": "bcc5c4fb-1fcc-42fc-d1be-e767700a739e"
   },
   "outputs": [
    {
     "name": "stdout",
     "output_type": "stream",
     "text": [
      "Descubrir nodo 0\n",
      "Descubrir nodo 2\n",
      "Descubrir nodo 1\n",
      "Descubrir nodo 5\n",
      "Finalizar nodo 5\n",
      "Finalizar nodo 1\n",
      "Finalizar nodo 2\n",
      "Descubrir nodo 8\n",
      "Descubrir nodo 9\n",
      "Descubrir nodo 6\n",
      "Descubrir nodo 3\n",
      "Descubrir nodo 7\n",
      "Finalizar nodo 7\n",
      "Finalizar nodo 3\n",
      "Finalizar nodo 6\n",
      "Finalizar nodo 9\n",
      "Finalizar nodo 8\n",
      "Finalizar nodo 0\n",
      "Descubrir nodo 4\n",
      "Finalizar nodo 4\n"
     ]
    }
   ],
   "source": [
    "# Ejemplo:\n",
    "def descubrir(u):\n",
    "    print(f'Descubrir nodo {u}')\n",
    "\n",
    "def finalizar(u):\n",
    "    print(f'Finalizar nodo {u}')\n",
    "\n",
    "# Acá debes usar la versión iterativa en lugar de la versión recursiva y\n",
    "# obtener el mismo resultado que en la versión recursiva:\n",
    "recorrido_en_profundidad(G, descubrir, finalizar)"
   ]
  },
  {
   "cell_type": "code",
   "execution_count": 243,
   "metadata": {
    "colab": {
     "base_uri": "https://localhost:8080/",
     "height": 494
    },
    "colab_type": "code",
    "id": "0DHqoBEB-EDa",
    "outputId": "1b94a79f-6abc-4d68-9bdf-9ae814372671"
   },
   "outputs": [
    {
     "name": "stdout",
     "output_type": "stream",
     "text": [
      "Descubrir nodo 0\n",
      "2\n",
      "Descubrir nodo 8\n",
      "9\n"
     ]
    },
    {
     "ename": "KeyboardInterrupt",
     "evalue": "",
     "output_type": "error",
     "traceback": [
      "\u001b[0;31m---------------------------------------------------------------------------\u001b[0m",
      "\u001b[0;31mKeyboardInterrupt\u001b[0m                         Traceback (most recent call last)",
      "\u001b[0;32m<ipython-input-243-c87b487c4622>\u001b[0m in \u001b[0;36m<module>\u001b[0;34m\u001b[0m\n\u001b[1;32m     10\u001b[0m \u001b[0;31m# Acá debes usar la versión iterativa en lugar de la versión recursiva y\u001b[0m\u001b[0;34m\u001b[0m\u001b[0;34m\u001b[0m\u001b[0;34m\u001b[0m\u001b[0m\n\u001b[1;32m     11\u001b[0m \u001b[0;31m# obtener el mismo resultado que en la versión recursiva:\u001b[0m\u001b[0;34m\u001b[0m\u001b[0;34m\u001b[0m\u001b[0;34m\u001b[0m\u001b[0m\n\u001b[0;32m---> 12\u001b[0;31m \u001b[0mrecorrido_en_profundidad_iterativo\u001b[0m\u001b[0;34m(\u001b[0m\u001b[0mG\u001b[0m\u001b[0;34m,\u001b[0m \u001b[0mdescubrir\u001b[0m\u001b[0;34m,\u001b[0m \u001b[0mfinalizar\u001b[0m\u001b[0;34m)\u001b[0m\u001b[0;34m\u001b[0m\u001b[0;34m\u001b[0m\u001b[0m\n\u001b[0m",
      "\u001b[0;32m<ipython-input-240-43881498c258>\u001b[0m in \u001b[0;36mrecorrido_en_profundidad_iterativo\u001b[0;34m(G, descubrir, finalizar)\u001b[0m\n\u001b[1;32m     20\u001b[0m         \u001b[0;32mfor\u001b[0m \u001b[0mr\u001b[0m \u001b[0;32min\u001b[0m \u001b[0mG\u001b[0m\u001b[0;34m.\u001b[0m\u001b[0mnodes\u001b[0m\u001b[0;34m:\u001b[0m                               \u001b[0;31m#Para cada nodo en el grafo\u001b[0m\u001b[0;34m\u001b[0m\u001b[0;34m\u001b[0m\u001b[0m\n\u001b[1;32m     21\u001b[0m              \u001b[0;32mif\u001b[0m \u001b[0mr\u001b[0m \u001b[0;32mnot\u001b[0m \u001b[0;32min\u001b[0m \u001b[0mvisitados\u001b[0m\u001b[0;34m:\u001b[0m                     \u001b[0;31m#Si no hay sido encontrado\u001b[0m\u001b[0;34m\u001b[0m\u001b[0;34m\u001b[0m\u001b[0m\n\u001b[0;32m---> 22\u001b[0;31m                 \u001b[0mvisitar\u001b[0m\u001b[0;34m(\u001b[0m\u001b[0mr\u001b[0m\u001b[0;34m)\u001b[0m                              \u001b[0;31m#Encontramos\u001b[0m\u001b[0;34m\u001b[0m\u001b[0;34m\u001b[0m\u001b[0m\n\u001b[0m",
      "\u001b[0;32m<ipython-input-240-43881498c258>\u001b[0m in \u001b[0;36mvisitar\u001b[0;34m(u)\u001b[0m\n\u001b[1;32m      6\u001b[0m             \u001b[0mfinales\u001b[0m \u001b[0;34m=\u001b[0m \u001b[0;34m[\u001b[0m\u001b[0;34m]\u001b[0m\u001b[0;34m\u001b[0m\u001b[0;34m\u001b[0m\u001b[0m\n\u001b[1;32m      7\u001b[0m             \u001b[0;32mwhile\u001b[0m \u001b[0mstack\u001b[0m\u001b[0;34m:\u001b[0m                                \u001b[0;31m#Mientras la pila no este vacia\u001b[0m\u001b[0;34m\u001b[0m\u001b[0;34m\u001b[0m\u001b[0m\n\u001b[0;32m----> 8\u001b[0;31m                 \u001b[0ms\u001b[0m \u001b[0;34m=\u001b[0m \u001b[0mstack\u001b[0m\u001b[0;34m[\u001b[0m\u001b[0;34m-\u001b[0m\u001b[0;36m1\u001b[0m\u001b[0;34m]\u001b[0m\u001b[0;34m\u001b[0m\u001b[0;34m\u001b[0m\u001b[0m\n\u001b[0m\u001b[1;32m      9\u001b[0m \u001b[0;34m\u001b[0m\u001b[0m\n\u001b[1;32m     10\u001b[0m                 \u001b[0;31m#finalizar(s)\u001b[0m\u001b[0;34m\u001b[0m\u001b[0;34m\u001b[0m\u001b[0;34m\u001b[0m\u001b[0m\n",
      "\u001b[0;31mKeyboardInterrupt\u001b[0m: "
     ]
    }
   ],
   "source": [
    "# No me quedo igual no supe como hace la impresion de finalizar y con la pila siempre toma el 8 en vez del 2\n",
    "# por lo que no supe tampoco como hacerle\n",
    "# Ejemplo:\n",
    "def descubrir(u):\n",
    "    print(f'Descubrir nodo {u}')\n",
    "\n",
    "def finalizar(u):\n",
    "    print(f'Finalizar nodo {u}')\n",
    "\n",
    "# Acá debes usar la versión iterativa en lugar de la versión recursiva y\n",
    "# obtener el mismo resultado que en la versión recursiva:\n",
    "recorrido_en_profundidad_iterativo(G, descubrir, finalizar)"
   ]
  },
  {
   "cell_type": "markdown",
   "metadata": {
    "colab_type": "text",
    "id": "8IX3EuvU-EDd"
   },
   "source": [
    "### Ej. 2 Una variante para el modelo de Erdős–Rényi \n",
    "En lugar de definir los parámetros $n$ y $p$ para el modelo de\n",
    "Erdős–Rényi, una variante utiliza los parámetros $n$ y $m$, es decir, el\n",
    "número de nodos y de aristas.\n",
    "Su implementación es un poco más complicada y se ha dejado como\n",
    "ejercicio.\n",
    "\n",
    "1. Escribe un algoritmo `simular_urna` que reciba como parámetros una\n",
    "   lista de `elementos` y un número entero `k`; el algoritmo debe de\n",
    "   arrojar $k$ elementos sin repetición tomados al azar de la lista;\n",
    "   todos los elementos de la lista deben tener la misma probabilidad de\n",
    "   ser sacados de la urna; tu algoritmo debe tener complejidad $O(k)$."
   ]
  },
  {
   "cell_type": "code",
   "execution_count": null,
   "metadata": {
    "colab": {},
    "colab_type": "code",
    "id": "vKOTSnm7-EDe"
   },
   "outputs": [],
   "source": [
    "# Por lo que se esto no es O(k) pero no supe como hacerle\n",
    "def simular_urna(elementos: List, k: int) -> List:\n",
    "    y = list()\n",
    "    for i in range(k):                      # Tomamos k elementos\n",
    "        y.append(random.choice(elementos))  # agregamos un elemento aleatoriamente a la lista\n",
    "        elementos.remove(y[i])              # quitamos el elemento de la lista para que no se repita\n",
    "    return y"
   ]
  },
  {
   "cell_type": "markdown",
   "metadata": {
    "colab_type": "text",
    "id": "Y3tepY0x-EDh"
   },
   "source": [
    "2. Implementa `grafo_gnm(n, m)` que genera un grafo aleatorio de $n$\n",
    "   nodos y $m$ aristas sin repetición que son tomadas al azar de la\n",
    "   lista de todas las aristas posibles entre $n$ nodos. "
   ]
  },
  {
   "cell_type": "code",
   "execution_count": null,
   "metadata": {
    "colab": {},
    "colab_type": "code",
    "id": "VydEh5ma-EDi"
   },
   "outputs": [],
   "source": [
    "# En esta creo la lista de aristas sin repeticion desde el inicio\n",
    "def grafo_gnm(n: int, m: int) -> nx.Graph:\n",
    "    G = nx.Graph()\n",
    "    elementos = []\n",
    "    nodos = range(n)\n",
    "    # Generamos todas las aristas sin repeticion\n",
    "    for i in nodos:\n",
    "        for j in range(i):\n",
    "            elementos.append((i,j))    #Agregamos la arista \n",
    "    G.add_nodes_from(nodos)\n",
    "    E = simular_urna(elementos, m)     #Tomamos m aristas de la lista\n",
    "    G.add_edges_from(E)\n",
    "    return G"
   ]
  },
  {
   "cell_type": "code",
   "execution_count": 26,
   "metadata": {
    "colab": {
     "base_uri": "https://localhost:8080/",
     "height": 319
    },
    "colab_type": "code",
    "id": "47M6dYKk-EDn",
    "outputId": "06e5a722-bd86-4153-9cf3-26fc38e16721"
   },
   "outputs": [
    {
     "data": {
      "image/png": "[encoded data removed]",
      "text/plain": [
       "<Figure size 432x288 with 1 Axes>"
      ]
     },
     "metadata": {
      "tags": []
     },
     "output_type": "display_data"
    }
   ],
   "source": [
    "m_graph = grafo_gnm(10, 15)\n",
    "nx.draw(m_graph, with_labels=True)"
   ]
  },
  {
   "cell_type": "markdown",
   "metadata": {
    "colab_type": "text",
    "id": "b4HgVXG9-EDv"
   },
   "source": [
    "3. Escribe una versión de `graficar_prob_conexa` que reciba en lugar de\n",
    "   graficar para distintos valores de $p\\in[0, 1]$ lo haga para\n",
    "   distintos valores de $m = 0, 1, 2, \\ldots, \\binom{n}{2}$."
   ]
  },
  {
   "cell_type": "code",
   "execution_count": null,
   "metadata": {
    "colab": {},
    "colab_type": "code",
    "id": "Yguau0IH-EDw"
   },
   "outputs": [],
   "source": [
    "def prob_gnm_conexa(n: int, m: int, iters=400) -> float:\n",
    "    contador = 0\n",
    "    for i in range(iters):\n",
    "        grafo_m = grafo_gnm(n, m)          #Generamos un grafo_gnm\n",
    "        if es_conexa(grafo_m):             #Comprobamos si es conexo\n",
    "            contador += 1                  \n",
    "    return contador/iters                 #Probabilidad de que un grafo sea conexo"
   ]
  },
  {
   "cell_type": "code",
   "execution_count": null,
   "metadata": {
    "colab": {},
    "colab_type": "code",
    "id": "29B7Poj0-EDy"
   },
   "outputs": [],
   "source": [
    "def graficar_prob_gnm__conexa(\n",
    "        n: int, m: Optional[Sequence[int]]=None, iters: int=400) -> int:\n",
    "    \n",
    "    pst = math.log(n) / n\n",
    "    ps = np.linspace(0, 1, 50)\n",
    "    ms = [int(p * n * (n-1) / 2) for p in ps]\n",
    "    ys = [prob_gnm_conexa(n, m, iters = 400) for m in ms]\n",
    "    \n",
    "    fig, ax = plt.subplots()\n",
    "    ax.set_xlabel('Probabilidad de arista (p)')\n",
    "    ax.set_ylabel('Probabilidad de ser conexa')\n",
    "    ax.axvline(pst, color='tomato', label='Valor umbral teórico')\n",
    "    ax.plot(ps, ys, color='blue', label='Simulación')\n",
    "    ax.legend()\n",
    "    \n",
    "    return fig, ax"
   ]
  },
  {
   "cell_type": "code",
   "execution_count": 29,
   "metadata": {
    "colab": {
     "base_uri": "https://localhost:8080/",
     "height": 283
    },
    "colab_type": "code",
    "id": "bfZCNcRb-ED0",
    "outputId": "a4d7181f-5030-4070-a8b0-4e0daa9d3ed4"
   },
   "outputs": [
    {
     "data": {
      "image/png": "[encoded data removed]",
      "text/plain": [
       "<Figure size 432x288 with 1 Axes>"
      ]
     },
     "metadata": {
      "tags": []
     },
     "output_type": "display_data"
    }
   ],
   "source": [
    "fig, ax = graficar_prob_gnm__conexa(10, iters=25600)"
   ]
  },
  {
   "cell_type": "code",
   "execution_count": 30,
   "metadata": {
    "colab": {
     "base_uri": "https://localhost:8080/",
     "height": 283
    },
    "colab_type": "code",
    "id": "s2DEP8kB-ED2",
    "outputId": "b96ae9c8-d36b-4682-9271-e68979d8e569"
   },
   "outputs": [
    {
     "data": {
      "image/png": "[encoded data removed]",
      "text/plain": [
       "<Figure size 432x288 with 1 Axes>"
      ]
     },
     "metadata": {
      "tags": []
     },
     "output_type": "display_data"
    }
   ],
   "source": [
    "fig, ax = graficar_prob_conexa(10, iters=25600)"
   ]
  },
  {
   "cell_type": "markdown",
   "metadata": {
    "colab_type": "text",
    "id": "QcmZ6Z8D-ED5"
   },
   "source": [
    "4. ¿Cómo se comparan los resultados entre las dos variantes del modelo?\n",
    "   Discute tus observaciones."
   ]
  },
  {
   "cell_type": "markdown",
   "metadata": {
    "colab_type": "text",
    "id": "daZVYjDn-ED5"
   },
   "source": [
    "- Por lo que puedo ver de varias simulaciones en el modelo gnp(vertices, probabilidad) es mas estable que el gnm(vertices, aristas), esto es, tiene menos variaciones en la probabilidad de conexidad, en otras palabras la curva que genera no tiene tantas variaciones.\n",
    "- Tambien se puede ver en gnm que al tener en algun momento la probabilidad de ser conexa aumenta mas rapido y en algunas simulaciones decae o en otros casos esto pasa tambien con la gnp.\n",
    "- En la mayoria de las simulaciones parece ser que en el modelo gnm la probabilidad de conexidad es mayor que en gnp. "
   ]
  },
  {
   "cell_type": "code",
   "execution_count": null,
   "metadata": {
    "colab": {},
    "colab_type": "code",
    "id": "plJxeywt-ED6"
   },
   "outputs": [],
   "source": []
  }
 ],
 "metadata": {
  "colab": {
   "collapsed_sections": [],
   "name": "Rey David Gutierrez Torres - 2. Grafos.ipynb",
   "provenance": []
  },
  "kernelspec": {
   "display_name": "Python 3",
   "language": "python",
   "name": "python3"
  },
  "language_info": {
   "codemirror_mode": {
    "name": "ipython",
    "version": 3
   },
   "file_extension": ".py",
   "mimetype": "text/x-python",
   "name": "python",
   "nbconvert_exporter": "python",
   "pygments_lexer": "ipython3",
   "version": "3.7.3"
  }
 },
 "nbformat": 4,
 "nbformat_minor": 4
}
