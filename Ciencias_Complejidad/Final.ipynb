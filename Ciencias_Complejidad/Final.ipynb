{
 "cells": [
  {
   "cell_type": "markdown",
   "metadata": {
    "colab_type": "text",
    "id": "bwO3Wd45BJmI"
   },
   "source": [
    "**Exercise 5.3** \n",
    "\n",
    "The goal of this exercise is to implement a Turing machine.\n",
    "1. Read about Turing machines at http://thinkcomplex.com/tm.\n",
    "2. Write a class called Turing that implements a Turing machine. For the\n",
    "action table, use the rules for a 3-state busy beaver.\n",
    "\n",
    "3. Write a class named TuringViewer that generates an image that represents the state of the tape and the position and state of the head. For one example of what that might look like, see http://thinkcomplex.com/turing."
   ]
  },
  {
   "cell_type": "code",
   "execution_count": null,
   "metadata": {
    "colab": {},
    "colab_type": "code",
    "id": "lR9nw7kDBLWb"
   },
   "outputs": [],
   "source": [
    "class Turing:\n",
    "# https://www.matesfacil.com/automatas-lenguajes/Maquina-Turing.html\n",
    "\n",
    "    def __init__(self, Q, Gamma, b, Sigma, delta, q0, F):\n",
    "        self.Q = Q\n",
    "        self.Gamma = Gamma\n",
    "        self.b = b\n",
    "        self.Sigma = Sigma\n",
    "        self.delta = delta\n",
    "        self.q0 = q0\n",
    "        self.F = F\n",
    "    \n",
    "    def func_delta(self, q, simbolo): \n",
    "        #func de transicion -> δ(q,X) = (p,Y,{L, R})\n",
    "\n",
    "        # simbolo 0 y estado A\n",
    "        if q == \"A\" and simbolo == 0:\n",
    "            return \"B\", 1, \"R\"\n",
    "            \n",
    "        # simbolo 0 y estado B\n",
    "        if q == \"B\" and simbolo == 0:\n",
    "            return \"A\", 1, \"L\"\n",
    "\n",
    "        # simbolo 0 y estado C\n",
    "        if q == \"C\" and simbolo == 0:\n",
    "            return \"B\", 1, \"L\"\n",
    "\n",
    "        # simbolo 1 y estado A\n",
    "        if q == \"A\" and simbolo == 1:\n",
    "            return \"C\", 1, \"L\"        \n",
    "\n",
    "        # simbolo 1 y estado B\n",
    "        if q == \"B\" and simbolo == 1:\n",
    "            return \"B\", 1, \"R\"\n",
    "\n",
    "        # simbolo 1 y estado B\n",
    "        if q == \"C\" and simbolo == 1:\n",
    "            return \"H\", 1, \"R\"\n",
    "\n",
    "\n",
    "    def corre_maquina(self):\n",
    "        acciones = []\n",
    "        i = 0\n",
    "        while self.q0 != \"H\" and i < len(self.Sigma):\n",
    "            actual = self.q0\n",
    "            simbolo_actual = self.Sigma[i]\n",
    "            self.q0, self.Sigma[i], direc = self.func_delta(self.q0,\n",
    "                                                            self.Sigma[i])\n",
    "            acciones.append([actual, simbolo_actual,self.Sigma[i], direc,\n",
    "                             self.q0])\n",
    "            i+=1\n",
    "        print(acciones)\n"
   ]
  },
  {
   "cell_type": "code",
   "execution_count": 453,
   "metadata": {
    "colab": {
     "base_uri": "https://localhost:8080/",
     "height": 34
    },
    "colab_type": "code",
    "executionInfo": {
     "elapsed": 324,
     "status": "ok",
     "timestamp": 1575667803026,
     "user": {
      "displayName": "pirron de elis",
      "photoUrl": "https://lh3.googleusercontent.com/a-/AAuE7mDUGoHOXLSEkLPYdU_Gnc1yxZZPJWZ0YqYYuJwU8A=s64",
      "userId": "08178922149514211497"
     },
     "user_tz": 360
    },
    "id": "QbKVHDEtEQ3y",
    "outputId": "9c3ede25-b005-4797-aa64-2f14ce201401"
   },
   "outputs": [
    {
     "name": "stdout",
     "output_type": "stream",
     "text": [
      "[['A', 1, 1, 'L', 'C'], ['C', 0, 1, 'L', 'B'], ['B', 0, 1, 'L', 'A'], ['A', 0, 1, 'R', 'B']]\n"
     ]
    }
   ],
   "source": [
    "# cadenas que terminan en estado H -> [0, 0, 1, 1], [1, 1, 0, 1]\n",
    "Q, Gamma, b, Sigma, q0, F = [\"A\", \"B\", \"C\", \"H\"], [0, 1], 0, [1, 0, 0, 0], \"A\", \"H\"\n",
    "maquina = Turing(Q, Gamma, b, Sigma, delta, q0, F)\n",
    "\n",
    "maquina.corre_maquina()\n"
   ]
  },
  {
   "cell_type": "code",
   "execution_count": null,
   "metadata": {
    "colab": {},
    "colab_type": "code",
    "id": "PUTOsIq0EQ6s"
   },
   "outputs": [],
   "source": []
  },
  {
   "cell_type": "code",
   "execution_count": null,
   "metadata": {
    "colab": {},
    "colab_type": "code",
    "id": "RBV0btTmtcSH"
   },
   "outputs": [],
   "source": []
  },
  {
   "cell_type": "code",
   "execution_count": null,
   "metadata": {
    "colab": {},
    "colab_type": "code",
    "id": "x0CNemuetcW4"
   },
   "outputs": [],
   "source": []
  },
  {
   "cell_type": "code",
   "execution_count": null,
   "metadata": {
    "colab": {},
    "colab_type": "code",
    "id": "IeQxcanqERAF"
   },
   "outputs": [],
   "source": []
  },
  {
   "cell_type": "code",
   "execution_count": null,
   "metadata": {
    "colab": {},
    "colab_type": "code",
    "id": "LXrw-rQjERCY"
   },
   "outputs": [],
   "source": []
  },
  {
   "cell_type": "markdown",
   "metadata": {
    "colab_type": "text",
    "id": "D-tWpS-UBU57"
   },
   "source": [
    "**Exercise 6.5**\n",
    "\n",
    "If you generalize the Turing machine to two dimensions, or\n",
    "add a read-write head to a 2-D CA, the result is a cellular automaton called a Turmite. It is named after a termite because of the way the read-write head moves, but spelled wrong as an homage to Alan Turing.\n",
    "\n",
    "The most famous Turmite is Langton’s Ant, discovered by Chris Langton in 1986. See http://thinkcomplex.com/langton.\n",
    "\n",
    "The ant is a read-write head with four states, which you can think of as facing north, south, east or west. The cells have two states, black and white.\n",
    "\n",
    "The rules are simple. During each time step, the ant checks the color of the cell it is on. If black, the ant turns to the right, changes the cell to white, and moves forward one space. If the cell is white, the ant turns left, changes the cell to black, and moves forward.\n",
    "\n",
    "Given a simple world, a simple set of rules, and only one moving part, you might expect to see simple behavior — but you should know better by now.Starting with all white cells, Langton’s ant moves in a seemingly random pattern for more than 10,000 steps before it enters a cycle with a period of 104 steps. After each cycle, the ant is translated diagonally, so it leaves a trail called the “highway”.\n",
    "\n",
    "**Write an implementation of Langton’s Ant.**\n"
   ]
  },
  {
   "cell_type": "code",
   "execution_count": null,
   "metadata": {
    "colab": {},
    "colab_type": "code",
    "id": "uOrSqJKTzFI_"
   },
   "outputs": [],
   "source": [
    "from matplotlib import animation\n",
    "import matplotlib.pyplot as plt\n",
    "import numpy as np\n",
    "from matplotlib.animation import FuncAnimation\n",
    "from scipy import signal\n",
    "import itertools \n",
    "from scipy.signal import correlate2d"
   ]
  },
  {
   "cell_type": "code",
   "execution_count": null,
   "metadata": {
    "colab": {},
    "colab_type": "code",
    "id": "kksVmXRSyH1b"
   },
   "outputs": [],
   "source": [
    "\n",
    "class Langton():\n",
    "\n",
    "    def __init__(self, a, b):\n",
    "        self.x, self.y = a, b # posicion de inicio de la hormiga\n",
    "        \n",
    "    def inicia(self):\n",
    "        return np.zeros((self.x, self.y))\n",
    "\n",
    "    def direcciones(self, grid, x, y, R):\n",
    "\n",
    "        # norte\n",
    "        if(R == \" \" and grid[x, y] == 0):\n",
    "            #grid[x, y] = grid[x - 1, y]\n",
    "            grid[x, y] = 1\n",
    "            return grid, x-1, y\n",
    "        # sur\n",
    "        #grid[x, y] = grid[x + 1, y]\n",
    "        \n",
    "        #este\n",
    "        #grid[x, y] = grid[x, y + 1]\n",
    "        \n",
    "        #oeste\n",
    "        #grid[x, y] = grid[x, y - 1]\n",
    "\n",
    "        return grid\n",
    "\n",
    "    def mov(self, iters):\n",
    "        malla = self.inicia()\n",
    "        a, b = int(n/2) , int(m/2)\n",
    "        #print(malla)\n",
    "        if malla[a, b] == 0:\n",
    "            malla, x, y = self.direcciones(malla, a, b, \" \")\n",
    "            print(malla, x, y)\n",
    "\n"
   ]
  },
  {
   "cell_type": "code",
   "execution_count": 452,
   "metadata": {
    "colab": {
     "base_uri": "https://localhost:8080/",
     "height": 295
    },
    "colab_type": "code",
    "executionInfo": {
     "elapsed": 324,
     "status": "ok",
     "timestamp": 1575667750990,
     "user": {
      "displayName": "pirron de elis",
      "photoUrl": "https://lh3.googleusercontent.com/a-/AAuE7mDUGoHOXLSEkLPYdU_Gnc1yxZZPJWZ0YqYYuJwU8A=s64",
      "userId": "08178922149514211497"
     },
     "user_tz": 360
    },
    "id": "y4RjalAPyH9v",
    "outputId": "f2e5df63-14ef-4243-c3da-02064da33e62"
   },
   "outputs": [
    {
     "name": "stdout",
     "output_type": "stream",
     "text": [
      "[[0. 0. 0. 0. 0. 0. 0. 0. 0. 0. 0. 0. 0. 0. 0. 0.]\n",
      " [0. 0. 0. 0. 0. 0. 0. 0. 0. 0. 0. 0. 0. 0. 0. 0.]\n",
      " [0. 0. 0. 0. 0. 0. 0. 0. 0. 0. 0. 0. 0. 0. 0. 0.]\n",
      " [0. 0. 0. 0. 0. 0. 0. 0. 0. 0. 0. 0. 0. 0. 0. 0.]\n",
      " [0. 0. 0. 0. 0. 0. 0. 0. 0. 0. 0. 0. 0. 0. 0. 0.]\n",
      " [0. 0. 0. 0. 0. 0. 0. 0. 0. 0. 0. 0. 0. 0. 0. 0.]\n",
      " [0. 0. 0. 0. 0. 0. 0. 0. 0. 0. 0. 0. 0. 0. 0. 0.]\n",
      " [0. 0. 0. 0. 0. 0. 0. 0. 0. 0. 0. 0. 0. 0. 0. 0.]\n",
      " [0. 0. 0. 0. 0. 0. 0. 0. 1. 0. 0. 0. 0. 0. 0. 0.]\n",
      " [0. 0. 0. 0. 0. 0. 0. 0. 0. 0. 0. 0. 0. 0. 0. 0.]\n",
      " [0. 0. 0. 0. 0. 0. 0. 0. 0. 0. 0. 0. 0. 0. 0. 0.]\n",
      " [0. 0. 0. 0. 0. 0. 0. 0. 0. 0. 0. 0. 0. 0. 0. 0.]\n",
      " [0. 0. 0. 0. 0. 0. 0. 0. 0. 0. 0. 0. 0. 0. 0. 0.]\n",
      " [0. 0. 0. 0. 0. 0. 0. 0. 0. 0. 0. 0. 0. 0. 0. 0.]\n",
      " [0. 0. 0. 0. 0. 0. 0. 0. 0. 0. 0. 0. 0. 0. 0. 0.]\n",
      " [0. 0. 0. 0. 0. 0. 0. 0. 0. 0. 0. 0. 0. 0. 0. 0.]] 7 8\n"
     ]
    }
   ],
   "source": [
    "n, m = 16, 16\n",
    "ant = Langton(n, m)\n",
    "\n",
    "ant.mov(2)\n"
   ]
  },
  {
   "cell_type": "code",
   "execution_count": null,
   "metadata": {
    "colab": {},
    "colab_type": "code",
    "id": "pjiX3Mnp3wmN"
   },
   "outputs": [],
   "source": []
  },
  {
   "cell_type": "code",
   "execution_count": null,
   "metadata": {
    "colab": {},
    "colab_type": "code",
    "id": "Mi0aSHNSyIA3"
   },
   "outputs": [],
   "source": [
    "#fig, ax = plt.subplots(figsize=(10, 10))\n",
    "#imagen = ax.imshow(malla, vmin=0, vmax=1)\n",
    "#ax.set_axis_off()"
   ]
  },
  {
   "cell_type": "code",
   "execution_count": null,
   "metadata": {
    "colab": {},
    "colab_type": "code",
    "id": "cD7kFeNoyID2"
   },
   "outputs": [],
   "source": []
  },
  {
   "cell_type": "code",
   "execution_count": null,
   "metadata": {
    "colab": {},
    "colab_type": "code",
    "id": "4Nd3rq50B8RX"
   },
   "outputs": [],
   "source": []
  },
  {
   "cell_type": "markdown",
   "metadata": {
    "colab_type": "text",
    "id": "ULd0KlyuCIo0"
   },
   "source": [
    "**Exercise 7.2**\n",
    "\n",
    "In 1990 Bak, Chen and Tang proposed a cellular automaton\n",
    "that is an abstract model of a forest fire. Each cell is in one of three states:\n",
    "empty, occupied by a tree, or on fire.\n",
    "\n",
    "The rules of the CA are:\n",
    "1. An empty cell becomes occupied with probability p.\n",
    "2. A cell with a tree burns if any of its neighbors is on fire.\n",
    "3. A cell with a tree spontaneously burns, with probability f, even if none\n",
    "of its neighbors is on fire.\n",
    "4. A cell with a burning tree becomes an empty cell in the next time step.\n",
    "\n",
    "Write a program that implements this model. You might want to inherit from Cell2D. Typical values for the parameters are p = 0.01 and f = 0.001, but you might want to experiment with other values.\n",
    "\n",
    "Starting from a random initial condition, run the model until it reaches a steady state where the number of trees no longer increases or decreases consistently.\n",
    "\n",
    "In steady state, is the geometry of the forest fractal? What is its fractal dimension?"
   ]
  },
  {
   "cell_type": "code",
   "execution_count": null,
   "metadata": {
    "colab": {},
    "colab_type": "code",
    "id": "u9Sp8uOwCVKe"
   },
   "outputs": [],
   "source": []
  }
 ],
 "metadata": {
  "colab": {
   "collapsed_sections": [],
   "name": "Final.ipynb",
   "provenance": []
  },
  "kernelspec": {
   "display_name": "Python 3",
   "language": "python",
   "name": "python3"
  },
  "language_info": {
   "codemirror_mode": {
    "name": "ipython",
    "version": 3
   },
   "file_extension": ".py",
   "mimetype": "text/x-python",
   "name": "python",
   "nbconvert_exporter": "python",
   "pygments_lexer": "ipython3",
   "version": "3.7.4"
  }
 },
 "nbformat": 4,
 "nbformat_minor": 4
}
