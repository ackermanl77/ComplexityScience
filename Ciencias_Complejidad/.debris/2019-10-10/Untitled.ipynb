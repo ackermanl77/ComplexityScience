{
 "cells": [
  {
   "cell_type": "code",
   "execution_count": 1,
   "metadata": {},
   "outputs": [],
   "source": [
    "import numpy as np\n",
    "import networkx as nx\n",
    "import matplotlib.pyplot as plt"
   ]
  },
  {
   "cell_type": "code",
   "execution_count": 2,
   "metadata": {},
   "outputs": [
    {
     "data": {
      "text/plain": [
       "\u001b[0;31mSignature:\u001b[0m \u001b[0mnx\u001b[0m\u001b[0;34m.\u001b[0m\u001b[0merdos_renyi_graph\u001b[0m\u001b[0;34m(\u001b[0m\u001b[0mn\u001b[0m\u001b[0;34m,\u001b[0m \u001b[0mp\u001b[0m\u001b[0;34m,\u001b[0m \u001b[0mseed\u001b[0m\u001b[0;34m=\u001b[0m\u001b[0;32mNone\u001b[0m\u001b[0;34m,\u001b[0m \u001b[0mdirected\u001b[0m\u001b[0;34m=\u001b[0m\u001b[0;32mFalse\u001b[0m\u001b[0;34m)\u001b[0m\u001b[0;34m\u001b[0m\u001b[0m\n",
       "\u001b[0;31mDocstring:\u001b[0m\n",
       "Returns a $G_{n,p}$ random graph, also known as an Erdős-Rényi graph\n",
       "or a binomial graph.\n",
       "\n",
       "The $G_{n,p}$ model chooses each of the possible edges with probability $p$.\n",
       "\n",
       "The functions :func:`binomial_graph` and :func:`erdos_renyi_graph` are\n",
       "aliases of this function.\n",
       "\n",
       "Parameters\n",
       "----------\n",
       "n : int\n",
       "    The number of nodes.\n",
       "p : float\n",
       "    Probability for edge creation.\n",
       "seed : integer, random_state, or None (default)\n",
       "    Indicator of random number generation state.\n",
       "    See :ref:`Randomness<randomness>`.\n",
       "directed : bool, optional (default=False)\n",
       "    If True, this function returns a directed graph.\n",
       "\n",
       "See Also\n",
       "--------\n",
       "fast_gnp_random_graph\n",
       "\n",
       "Notes\n",
       "-----\n",
       "This algorithm [2]_ runs in $O(n^2)$ time.  For sparse graphs (that is, for\n",
       "small values of $p$), :func:`fast_gnp_random_graph` is a faster algorithm.\n",
       "\n",
       "References\n",
       "----------\n",
       ".. [1] P. Erdős and A. Rényi, On Random Graphs, Publ. Math. 6, 290 (1959).\n",
       ".. [2] E. N. Gilbert, Random Graphs, Ann. Math. Stat., 30, 1141 (1959).\n",
       "\u001b[0;31mFile:\u001b[0m      ~/anaconda3/lib/python3.6/site-packages/networkx/generators/random_graphs.py\n",
       "\u001b[0;31mType:\u001b[0m      function\n"
      ]
     },
     "metadata": {},
     "output_type": "display_data"
    }
   ],
   "source": [
    "?nx.erdos_renyi_graph"
   ]
  },
  {
   "cell_type": "code",
   "execution_count": 3,
   "metadata": {},
   "outputs": [],
   "source": [
    "G = nx.erdos_renyi_graph(n = 3000, p = 10 **(-3))"
   ]
  },
  {
   "cell_type": "code",
   "execution_count": null,
   "metadata": {},
   "outputs": [],
   "source": []
  }
 ],
 "metadata": {
  "kernelspec": {
   "display_name": "Python 3",
   "language": "python",
   "name": "python3"
  },
  "language_info": {
   "codemirror_mode": {
    "name": "ipython",
    "version": 3
   },
   "file_extension": ".py",
   "mimetype": "text/x-python",
   "name": "python",
   "nbconvert_exporter": "python",
   "pygments_lexer": "ipython3",
   "version": "3.7.3"
  }
 },
 "nbformat": 4,
 "nbformat_minor": 4
}
